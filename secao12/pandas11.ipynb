{
 "cells": [
  {
   "cell_type": "markdown",
   "id": "80e76ab4",
   "metadata": {},
   "source": [
    "# Right Join"
   ]
  },
  {
   "cell_type": "code",
   "execution_count": 1,
   "id": "07b302f7",
   "metadata": {},
   "outputs": [],
   "source": [
    "import pandas as pd"
   ]
  },
  {
   "cell_type": "code",
   "execution_count": 2,
   "id": "898b4569",
   "metadata": {},
   "outputs": [],
   "source": [
    "men2004 = pd.read_csv(\"../Course_Materials_Part2/Video_Lecture_NBs/men2004.csv\")\n",
    "men2008 = pd.read_csv(\"../Course_Materials_Part2/Video_Lecture_NBs/men2008.csv\")"
   ]
  },
  {
   "cell_type": "code",
   "execution_count": 3,
   "id": "48317bf6",
   "metadata": {},
   "outputs": [
    {
     "data": {
      "text/html": [
       "<div>\n",
       "<style scoped>\n",
       "    .dataframe tbody tr th:only-of-type {\n",
       "        vertical-align: middle;\n",
       "    }\n",
       "\n",
       "    .dataframe tbody tr th {\n",
       "        vertical-align: top;\n",
       "    }\n",
       "\n",
       "    .dataframe thead th {\n",
       "        text-align: right;\n",
       "    }\n",
       "</style>\n",
       "<table border=\"1\" class=\"dataframe\">\n",
       "  <thead>\n",
       "    <tr style=\"text-align: right;\">\n",
       "      <th></th>\n",
       "      <th>Athlete</th>\n",
       "      <th>Medals_2004</th>\n",
       "      <th>Medals_2008</th>\n",
       "      <th>_merge</th>\n",
       "    </tr>\n",
       "  </thead>\n",
       "  <tbody>\n",
       "    <tr>\n",
       "      <th>0</th>\n",
       "      <td>PHELPS, Michael</td>\n",
       "      <td>8.0</td>\n",
       "      <td>8</td>\n",
       "      <td>both</td>\n",
       "    </tr>\n",
       "    <tr>\n",
       "      <th>1</th>\n",
       "      <td>LOCHTE, Ryan</td>\n",
       "      <td>2.0</td>\n",
       "      <td>4</td>\n",
       "      <td>both</td>\n",
       "    </tr>\n",
       "    <tr>\n",
       "      <th>2</th>\n",
       "      <td>BERNARD, Alain</td>\n",
       "      <td>NaN</td>\n",
       "      <td>3</td>\n",
       "      <td>right_only</td>\n",
       "    </tr>\n",
       "    <tr>\n",
       "      <th>3</th>\n",
       "      <td>SULLIVAN, Eamon</td>\n",
       "      <td>NaN</td>\n",
       "      <td>3</td>\n",
       "      <td>right_only</td>\n",
       "    </tr>\n",
       "    <tr>\n",
       "      <th>4</th>\n",
       "      <td>LAUTERSTEIN, Andrew</td>\n",
       "      <td>NaN</td>\n",
       "      <td>3</td>\n",
       "      <td>right_only</td>\n",
       "    </tr>\n",
       "    <tr>\n",
       "      <th>...</th>\n",
       "      <td>...</td>\n",
       "      <td>...</td>\n",
       "      <td>...</td>\n",
       "      <td>...</td>\n",
       "    </tr>\n",
       "    <tr>\n",
       "      <th>57</th>\n",
       "      <td>LAGUNOV, Evgeniy</td>\n",
       "      <td>NaN</td>\n",
       "      <td>1</td>\n",
       "      <td>right_only</td>\n",
       "    </tr>\n",
       "    <tr>\n",
       "      <th>58</th>\n",
       "      <td>BERENS, Ricky</td>\n",
       "      <td>NaN</td>\n",
       "      <td>1</td>\n",
       "      <td>right_only</td>\n",
       "    </tr>\n",
       "    <tr>\n",
       "      <th>59</th>\n",
       "      <td>LURZ, Thomas</td>\n",
       "      <td>NaN</td>\n",
       "      <td>1</td>\n",
       "      <td>right_only</td>\n",
       "    </tr>\n",
       "    <tr>\n",
       "      <th>60</th>\n",
       "      <td>MALLET, Gregory</td>\n",
       "      <td>NaN</td>\n",
       "      <td>1</td>\n",
       "      <td>right_only</td>\n",
       "    </tr>\n",
       "    <tr>\n",
       "      <th>61</th>\n",
       "      <td>ZHANG, Lin</td>\n",
       "      <td>NaN</td>\n",
       "      <td>1</td>\n",
       "      <td>right_only</td>\n",
       "    </tr>\n",
       "  </tbody>\n",
       "</table>\n",
       "<p>62 rows × 4 columns</p>\n",
       "</div>"
      ],
      "text/plain": [
       "                Athlete  Medals_2004  Medals_2008      _merge\n",
       "0       PHELPS, Michael          8.0            8        both\n",
       "1          LOCHTE, Ryan          2.0            4        both\n",
       "2        BERNARD, Alain          NaN            3  right_only\n",
       "3       SULLIVAN, Eamon          NaN            3  right_only\n",
       "4   LAUTERSTEIN, Andrew          NaN            3  right_only\n",
       "..                  ...          ...          ...         ...\n",
       "57     LAGUNOV, Evgeniy          NaN            1  right_only\n",
       "58        BERENS, Ricky          NaN            1  right_only\n",
       "59         LURZ, Thomas          NaN            1  right_only\n",
       "60      MALLET, Gregory          NaN            1  right_only\n",
       "61           ZHANG, Lin          NaN            1  right_only\n",
       "\n",
       "[62 rows x 4 columns]"
      ]
     },
     "execution_count": 3,
     "metadata": {},
     "output_type": "execute_result"
    }
   ],
   "source": [
    "men2004.merge(men2008, how=\"right\", on=\"Athlete\", suffixes=(\"_2004\", \"_2008\"), indicator=True)"
   ]
  },
  {
   "cell_type": "code",
   "execution_count": null,
   "id": "857bec3e",
   "metadata": {},
   "outputs": [],
   "source": []
  }
 ],
 "metadata": {
  "kernelspec": {
   "display_name": "Python 3",
   "language": "python",
   "name": "python3"
  },
  "language_info": {
   "codemirror_mode": {
    "name": "ipython",
    "version": 3
   },
   "file_extension": ".py",
   "mimetype": "text/x-python",
   "name": "python",
   "nbconvert_exporter": "python",
   "pygments_lexer": "ipython3",
   "version": "3.8.8"
  }
 },
 "nbformat": 4,
 "nbformat_minor": 5
}
