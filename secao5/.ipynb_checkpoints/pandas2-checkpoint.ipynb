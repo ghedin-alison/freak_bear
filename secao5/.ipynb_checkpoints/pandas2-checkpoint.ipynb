{
 "cells": [
  {
   "cell_type": "markdown",
   "id": "21c70672",
   "metadata": {},
   "source": [
    "## Filtering Dataframes by Many conditions"
   ]
  },
  {
   "cell_type": "markdown",
   "id": "048c2c56",
   "metadata": {},
   "source": [
    "### Import de bibliotecas"
   ]
  },
  {
   "cell_type": "code",
   "execution_count": 2,
   "id": "a00295ed",
   "metadata": {},
   "outputs": [],
   "source": [
    "import pandas as pd"
   ]
  },
  {
   "cell_type": "code",
   "execution_count": 3,
   "id": "a279767d",
   "metadata": {},
   "outputs": [],
   "source": [
    "titanic = pd.read_csv('../Course_Materials_Part1/Video_Lecture_NBs/titanic.csv')"
   ]
  },
  {
   "cell_type": "code",
   "execution_count": 4,
   "id": "16b73a08",
   "metadata": {},
   "outputs": [],
   "source": [
    "mask1 = titanic.sex == 'male'"
   ]
  },
  {
   "cell_type": "code",
   "execution_count": null,
   "id": "25c1f99d",
   "metadata": {},
   "outputs": [],
   "source": []
  },
  {
   "cell_type": "markdown",
   "id": "60f44548",
   "metadata": {},
   "source": []
  }
 ],
 "metadata": {
  "kernelspec": {
   "display_name": "Python 3",
   "language": "python",
   "name": "python3"
  },
  "language_info": {
   "codemirror_mode": {
    "name": "ipython",
    "version": 3
   },
   "file_extension": ".py",
   "mimetype": "text/x-python",
   "name": "python",
   "nbconvert_exporter": "python",
   "pygments_lexer": "ipython3",
   "version": "3.8.8"
  }
 },
 "nbformat": 4,
 "nbformat_minor": 5
}
