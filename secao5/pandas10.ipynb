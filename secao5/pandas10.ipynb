{
 "cells": [
  {
   "cell_type": "markdown",
   "id": "5f515a85",
   "metadata": {},
   "source": [
    "## Creating DataFrames from Scratch with pd.DataFrame()"
   ]
  },
  {
   "cell_type": "markdown",
   "id": "a7e7676d",
   "metadata": {},
   "source": [
    "### Import de Bibliotecas"
   ]
  },
  {
   "cell_type": "code",
   "execution_count": 1,
   "id": "823c0251",
   "metadata": {},
   "outputs": [],
   "source": [
    "import pandas as pd"
   ]
  },
  {
   "cell_type": "code",
   "execution_count": 2,
   "id": "9e453960",
   "metadata": {},
   "outputs": [],
   "source": [
    "player = [\"Lionel\", \"Cristiano\", \"Rogério\", \"Kylian\", \"Neuer\"]"
   ]
  },
  {
   "cell_type": "code",
   "execution_count": 3,
   "id": "0f442ce5",
   "metadata": {},
   "outputs": [],
   "source": [
    "nacionality = [\"Arg\", \"Por\", \"Bra\", \"Fra\", \"Ger\"]"
   ]
  },
  {
   "cell_type": "code",
   "execution_count": 4,
   "id": "5d7ce423",
   "metadata": {},
   "outputs": [],
   "source": [
    "club = [\"Barcelona\", \"Juventus\", \"São Paulo\", \"PSG\", \"Bayern\"]"
   ]
  },
  {
   "cell_type": "code",
   "execution_count": 5,
   "id": "11183812",
   "metadata": {},
   "outputs": [],
   "source": [
    "world_champion = [True, False, True, False, True]"
   ]
  },
  {
   "cell_type": "code",
   "execution_count": 6,
   "id": "f88e5b7a",
   "metadata": {},
   "outputs": [],
   "source": [
    "height = [1.70, 1.87, 1.75, 1.78, 1.93]"
   ]
  },
  {
   "cell_type": "code",
   "execution_count": 7,
   "id": "dd8cab0d",
   "metadata": {},
   "outputs": [],
   "source": [
    "gols = [45, 44, 106, 28, 0]"
   ]
  },
  {
   "cell_type": "code",
   "execution_count": 8,
   "id": "10c83e7a",
   "metadata": {},
   "outputs": [],
   "source": [
    "dic = {\"Player\": player, \n",
    "       \"Nacionality\": nacionality, \n",
    "       \"Club\": club, \n",
    "       \"World_Champion\": world_champion,\n",
    "       \"Height\": height,\n",
    "       \"Goals\": gols,}"
   ]
  },
  {
   "cell_type": "code",
   "execution_count": 9,
   "id": "7e78b4de",
   "metadata": {},
   "outputs": [
    {
     "data": {
      "text/plain": [
       "{'Player': ['Lionel', 'Cristiano', 'Rogério', 'Kylian', 'Neuer'],\n",
       " 'Nacionality': ['Arg', 'Por', 'Bra', 'Fra', 'Ger'],\n",
       " 'Club': ['Barcelona', 'Juventus', 'São Paulo', 'PSG', 'Bayern'],\n",
       " 'World_Champion': [True, False, True, False, True],\n",
       " 'Height': [1.7, 1.87, 1.75, 1.78, 1.93],\n",
       " 'Goals': [45, 44, 106, 28, 0]}"
      ]
     },
     "execution_count": 9,
     "metadata": {},
     "output_type": "execute_result"
    }
   ],
   "source": [
    "dic"
   ]
  },
  {
   "cell_type": "code",
   "execution_count": 10,
   "id": "61f727de",
   "metadata": {},
   "outputs": [],
   "source": [
    "df = pd.DataFrame(data=dic)"
   ]
  },
  {
   "cell_type": "code",
   "execution_count": 11,
   "id": "0b4dfa42",
   "metadata": {},
   "outputs": [
    {
     "data": {
      "text/html": [
       "<div>\n",
       "<style scoped>\n",
       "    .dataframe tbody tr th:only-of-type {\n",
       "        vertical-align: middle;\n",
       "    }\n",
       "\n",
       "    .dataframe tbody tr th {\n",
       "        vertical-align: top;\n",
       "    }\n",
       "\n",
       "    .dataframe thead th {\n",
       "        text-align: right;\n",
       "    }\n",
       "</style>\n",
       "<table border=\"1\" class=\"dataframe\">\n",
       "  <thead>\n",
       "    <tr style=\"text-align: right;\">\n",
       "      <th></th>\n",
       "      <th>Player</th>\n",
       "      <th>Nacionality</th>\n",
       "      <th>Club</th>\n",
       "      <th>World_Champion</th>\n",
       "      <th>Height</th>\n",
       "      <th>Goals</th>\n",
       "    </tr>\n",
       "  </thead>\n",
       "  <tbody>\n",
       "    <tr>\n",
       "      <th>0</th>\n",
       "      <td>Lionel</td>\n",
       "      <td>Arg</td>\n",
       "      <td>Barcelona</td>\n",
       "      <td>True</td>\n",
       "      <td>1.70</td>\n",
       "      <td>45</td>\n",
       "    </tr>\n",
       "    <tr>\n",
       "      <th>1</th>\n",
       "      <td>Cristiano</td>\n",
       "      <td>Por</td>\n",
       "      <td>Juventus</td>\n",
       "      <td>False</td>\n",
       "      <td>1.87</td>\n",
       "      <td>44</td>\n",
       "    </tr>\n",
       "    <tr>\n",
       "      <th>2</th>\n",
       "      <td>Rogério</td>\n",
       "      <td>Bra</td>\n",
       "      <td>São Paulo</td>\n",
       "      <td>True</td>\n",
       "      <td>1.75</td>\n",
       "      <td>106</td>\n",
       "    </tr>\n",
       "    <tr>\n",
       "      <th>3</th>\n",
       "      <td>Kylian</td>\n",
       "      <td>Fra</td>\n",
       "      <td>PSG</td>\n",
       "      <td>False</td>\n",
       "      <td>1.78</td>\n",
       "      <td>28</td>\n",
       "    </tr>\n",
       "    <tr>\n",
       "      <th>4</th>\n",
       "      <td>Neuer</td>\n",
       "      <td>Ger</td>\n",
       "      <td>Bayern</td>\n",
       "      <td>True</td>\n",
       "      <td>1.93</td>\n",
       "      <td>0</td>\n",
       "    </tr>\n",
       "  </tbody>\n",
       "</table>\n",
       "</div>"
      ],
      "text/plain": [
       "      Player Nacionality       Club  World_Champion  Height  Goals\n",
       "0     Lionel         Arg  Barcelona            True    1.70     45\n",
       "1  Cristiano         Por   Juventus           False    1.87     44\n",
       "2    Rogério         Bra  São Paulo            True    1.75    106\n",
       "3     Kylian         Fra        PSG           False    1.78     28\n",
       "4      Neuer         Ger     Bayern            True    1.93      0"
      ]
     },
     "execution_count": 11,
     "metadata": {},
     "output_type": "execute_result"
    }
   ],
   "source": [
    "df"
   ]
  },
  {
   "cell_type": "code",
   "execution_count": 12,
   "id": "9db16813",
   "metadata": {},
   "outputs": [],
   "source": [
    "players = df.set_index(\"Player\")"
   ]
  },
  {
   "cell_type": "code",
   "execution_count": 13,
   "id": "cb394902",
   "metadata": {},
   "outputs": [
    {
     "data": {
      "text/html": [
       "<div>\n",
       "<style scoped>\n",
       "    .dataframe tbody tr th:only-of-type {\n",
       "        vertical-align: middle;\n",
       "    }\n",
       "\n",
       "    .dataframe tbody tr th {\n",
       "        vertical-align: top;\n",
       "    }\n",
       "\n",
       "    .dataframe thead th {\n",
       "        text-align: right;\n",
       "    }\n",
       "</style>\n",
       "<table border=\"1\" class=\"dataframe\">\n",
       "  <thead>\n",
       "    <tr style=\"text-align: right;\">\n",
       "      <th></th>\n",
       "      <th>Nacionality</th>\n",
       "      <th>Club</th>\n",
       "      <th>World_Champion</th>\n",
       "      <th>Height</th>\n",
       "      <th>Goals</th>\n",
       "    </tr>\n",
       "    <tr>\n",
       "      <th>Player</th>\n",
       "      <th></th>\n",
       "      <th></th>\n",
       "      <th></th>\n",
       "      <th></th>\n",
       "      <th></th>\n",
       "    </tr>\n",
       "  </thead>\n",
       "  <tbody>\n",
       "    <tr>\n",
       "      <th>Lionel</th>\n",
       "      <td>Arg</td>\n",
       "      <td>Barcelona</td>\n",
       "      <td>True</td>\n",
       "      <td>1.70</td>\n",
       "      <td>45</td>\n",
       "    </tr>\n",
       "    <tr>\n",
       "      <th>Cristiano</th>\n",
       "      <td>Por</td>\n",
       "      <td>Juventus</td>\n",
       "      <td>False</td>\n",
       "      <td>1.87</td>\n",
       "      <td>44</td>\n",
       "    </tr>\n",
       "    <tr>\n",
       "      <th>Rogério</th>\n",
       "      <td>Bra</td>\n",
       "      <td>São Paulo</td>\n",
       "      <td>True</td>\n",
       "      <td>1.75</td>\n",
       "      <td>106</td>\n",
       "    </tr>\n",
       "    <tr>\n",
       "      <th>Kylian</th>\n",
       "      <td>Fra</td>\n",
       "      <td>PSG</td>\n",
       "      <td>False</td>\n",
       "      <td>1.78</td>\n",
       "      <td>28</td>\n",
       "    </tr>\n",
       "    <tr>\n",
       "      <th>Neuer</th>\n",
       "      <td>Ger</td>\n",
       "      <td>Bayern</td>\n",
       "      <td>True</td>\n",
       "      <td>1.93</td>\n",
       "      <td>0</td>\n",
       "    </tr>\n",
       "  </tbody>\n",
       "</table>\n",
       "</div>"
      ],
      "text/plain": [
       "          Nacionality       Club  World_Champion  Height  Goals\n",
       "Player                                                         \n",
       "Lionel            Arg  Barcelona            True    1.70     45\n",
       "Cristiano         Por   Juventus           False    1.87     44\n",
       "Rogério           Bra  São Paulo            True    1.75    106\n",
       "Kylian            Fra        PSG           False    1.78     28\n",
       "Neuer             Ger     Bayern            True    1.93      0"
      ]
     },
     "execution_count": 13,
     "metadata": {},
     "output_type": "execute_result"
    }
   ],
   "source": [
    "players"
   ]
  },
  {
   "cell_type": "markdown",
   "id": "fd0a2611",
   "metadata": {},
   "source": [
    "### Having rows in place"
   ]
  },
  {
   "cell_type": "code",
   "execution_count": 14,
   "id": "6e1db514",
   "metadata": {},
   "outputs": [
    {
     "data": {
      "text/plain": [
       "[('Arg', 'Barcelona', True, 1.7, 45),\n",
       " ('Por', 'Juventus', False, 1.87, 44),\n",
       " ('Bra', 'São Paulo', True, 1.75, 106),\n",
       " ('Fra', 'PSG', False, 1.78, 28),\n",
       " ('Ger', 'Bayern', True, 1.93, 0)]"
      ]
     },
     "execution_count": 14,
     "metadata": {},
     "output_type": "execute_result"
    }
   ],
   "source": [
    "list(zip(nacionality, club, world_champion, height, gols))"
   ]
  },
  {
   "cell_type": "code",
   "execution_count": 15,
   "id": "40a9d9e8",
   "metadata": {},
   "outputs": [],
   "source": [
    "zipped = list(zip(nacionality, club, world_champion, height, gols))"
   ]
  },
  {
   "cell_type": "code",
   "execution_count": 16,
   "id": "93020bd5",
   "metadata": {},
   "outputs": [],
   "source": [
    "Lionel, Cristiano, Rogerio, Kylian, Neuer = zipped"
   ]
  },
  {
   "cell_type": "code",
   "execution_count": 17,
   "id": "b2456735",
   "metadata": {},
   "outputs": [
    {
     "data": {
      "text/plain": [
       "('Arg', 'Barcelona', True, 1.7, 45)"
      ]
     },
     "execution_count": 17,
     "metadata": {},
     "output_type": "execute_result"
    }
   ],
   "source": [
    "Lionel"
   ]
  },
  {
   "cell_type": "code",
   "execution_count": 18,
   "id": "ac58b8af",
   "metadata": {},
   "outputs": [],
   "source": [
    "df = pd.DataFrame(data = [Lionel, Cristiano, Rogerio, Kylian, Neuer],\n",
    "                 index = [\"Lionel\", \"Cristiano\", \"Rogerio\", \"Kylian\", \"Neuer\"],\n",
    "                 columns = [\"Nacionality\", \"Club\", \"World_Champion\", \"Height\", \"Goals\"]\n",
    "                 )"
   ]
  },
  {
   "cell_type": "code",
   "execution_count": 19,
   "id": "3fafe28a",
   "metadata": {},
   "outputs": [
    {
     "data": {
      "text/html": [
       "<div>\n",
       "<style scoped>\n",
       "    .dataframe tbody tr th:only-of-type {\n",
       "        vertical-align: middle;\n",
       "    }\n",
       "\n",
       "    .dataframe tbody tr th {\n",
       "        vertical-align: top;\n",
       "    }\n",
       "\n",
       "    .dataframe thead th {\n",
       "        text-align: right;\n",
       "    }\n",
       "</style>\n",
       "<table border=\"1\" class=\"dataframe\">\n",
       "  <thead>\n",
       "    <tr style=\"text-align: right;\">\n",
       "      <th></th>\n",
       "      <th>Nacionality</th>\n",
       "      <th>Club</th>\n",
       "      <th>World_Champion</th>\n",
       "      <th>Height</th>\n",
       "      <th>Goals</th>\n",
       "    </tr>\n",
       "  </thead>\n",
       "  <tbody>\n",
       "    <tr>\n",
       "      <th>Lionel</th>\n",
       "      <td>Arg</td>\n",
       "      <td>Barcelona</td>\n",
       "      <td>True</td>\n",
       "      <td>1.70</td>\n",
       "      <td>45</td>\n",
       "    </tr>\n",
       "    <tr>\n",
       "      <th>Cristiano</th>\n",
       "      <td>Por</td>\n",
       "      <td>Juventus</td>\n",
       "      <td>False</td>\n",
       "      <td>1.87</td>\n",
       "      <td>44</td>\n",
       "    </tr>\n",
       "    <tr>\n",
       "      <th>Rogerio</th>\n",
       "      <td>Bra</td>\n",
       "      <td>São Paulo</td>\n",
       "      <td>True</td>\n",
       "      <td>1.75</td>\n",
       "      <td>106</td>\n",
       "    </tr>\n",
       "    <tr>\n",
       "      <th>Kylian</th>\n",
       "      <td>Fra</td>\n",
       "      <td>PSG</td>\n",
       "      <td>False</td>\n",
       "      <td>1.78</td>\n",
       "      <td>28</td>\n",
       "    </tr>\n",
       "    <tr>\n",
       "      <th>Neuer</th>\n",
       "      <td>Ger</td>\n",
       "      <td>Bayern</td>\n",
       "      <td>True</td>\n",
       "      <td>1.93</td>\n",
       "      <td>0</td>\n",
       "    </tr>\n",
       "  </tbody>\n",
       "</table>\n",
       "</div>"
      ],
      "text/plain": [
       "          Nacionality       Club  World_Champion  Height  Goals\n",
       "Lionel            Arg  Barcelona            True    1.70     45\n",
       "Cristiano         Por   Juventus           False    1.87     44\n",
       "Rogerio           Bra  São Paulo            True    1.75    106\n",
       "Kylian            Fra        PSG           False    1.78     28\n",
       "Neuer             Ger     Bayern            True    1.93      0"
      ]
     },
     "execution_count": 19,
     "metadata": {},
     "output_type": "execute_result"
    }
   ],
   "source": [
    "df"
   ]
  },
  {
   "cell_type": "code",
   "execution_count": 20,
   "id": "165f8ef5",
   "metadata": {},
   "outputs": [],
   "source": [
    "df2 = pd.Series(index= player, data= nacionality, name = \"Nationality\").to_frame()"
   ]
  },
  {
   "cell_type": "code",
   "execution_count": 21,
   "id": "ab724bec",
   "metadata": {},
   "outputs": [
    {
     "data": {
      "text/html": [
       "<div>\n",
       "<style scoped>\n",
       "    .dataframe tbody tr th:only-of-type {\n",
       "        vertical-align: middle;\n",
       "    }\n",
       "\n",
       "    .dataframe tbody tr th {\n",
       "        vertical-align: top;\n",
       "    }\n",
       "\n",
       "    .dataframe thead th {\n",
       "        text-align: right;\n",
       "    }\n",
       "</style>\n",
       "<table border=\"1\" class=\"dataframe\">\n",
       "  <thead>\n",
       "    <tr style=\"text-align: right;\">\n",
       "      <th></th>\n",
       "      <th>Nationality</th>\n",
       "    </tr>\n",
       "  </thead>\n",
       "  <tbody>\n",
       "    <tr>\n",
       "      <th>Lionel</th>\n",
       "      <td>Arg</td>\n",
       "    </tr>\n",
       "    <tr>\n",
       "      <th>Cristiano</th>\n",
       "      <td>Por</td>\n",
       "    </tr>\n",
       "    <tr>\n",
       "      <th>Rogério</th>\n",
       "      <td>Bra</td>\n",
       "    </tr>\n",
       "    <tr>\n",
       "      <th>Kylian</th>\n",
       "      <td>Fra</td>\n",
       "    </tr>\n",
       "    <tr>\n",
       "      <th>Neuer</th>\n",
       "      <td>Ger</td>\n",
       "    </tr>\n",
       "  </tbody>\n",
       "</table>\n",
       "</div>"
      ],
      "text/plain": [
       "          Nationality\n",
       "Lionel            Arg\n",
       "Cristiano         Por\n",
       "Rogério           Bra\n",
       "Kylian            Fra\n",
       "Neuer             Ger"
      ]
     },
     "execution_count": 21,
     "metadata": {},
     "output_type": "execute_result"
    }
   ],
   "source": [
    "df2"
   ]
  },
  {
   "cell_type": "code",
   "execution_count": 22,
   "id": "6031823b",
   "metadata": {},
   "outputs": [],
   "source": [
    "df2[\"Club\"] = club"
   ]
  },
  {
   "cell_type": "code",
   "execution_count": 23,
   "id": "e77ecfc9",
   "metadata": {},
   "outputs": [
    {
     "data": {
      "text/html": [
       "<div>\n",
       "<style scoped>\n",
       "    .dataframe tbody tr th:only-of-type {\n",
       "        vertical-align: middle;\n",
       "    }\n",
       "\n",
       "    .dataframe tbody tr th {\n",
       "        vertical-align: top;\n",
       "    }\n",
       "\n",
       "    .dataframe thead th {\n",
       "        text-align: right;\n",
       "    }\n",
       "</style>\n",
       "<table border=\"1\" class=\"dataframe\">\n",
       "  <thead>\n",
       "    <tr style=\"text-align: right;\">\n",
       "      <th></th>\n",
       "      <th>Nationality</th>\n",
       "      <th>Club</th>\n",
       "    </tr>\n",
       "  </thead>\n",
       "  <tbody>\n",
       "    <tr>\n",
       "      <th>Lionel</th>\n",
       "      <td>Arg</td>\n",
       "      <td>Barcelona</td>\n",
       "    </tr>\n",
       "    <tr>\n",
       "      <th>Cristiano</th>\n",
       "      <td>Por</td>\n",
       "      <td>Juventus</td>\n",
       "    </tr>\n",
       "    <tr>\n",
       "      <th>Rogério</th>\n",
       "      <td>Bra</td>\n",
       "      <td>São Paulo</td>\n",
       "    </tr>\n",
       "    <tr>\n",
       "      <th>Kylian</th>\n",
       "      <td>Fra</td>\n",
       "      <td>PSG</td>\n",
       "    </tr>\n",
       "    <tr>\n",
       "      <th>Neuer</th>\n",
       "      <td>Ger</td>\n",
       "      <td>Bayern</td>\n",
       "    </tr>\n",
       "  </tbody>\n",
       "</table>\n",
       "</div>"
      ],
      "text/plain": [
       "          Nationality       Club\n",
       "Lionel            Arg  Barcelona\n",
       "Cristiano         Por   Juventus\n",
       "Rogério           Bra  São Paulo\n",
       "Kylian            Fra        PSG\n",
       "Neuer             Ger     Bayern"
      ]
     },
     "execution_count": 23,
     "metadata": {},
     "output_type": "execute_result"
    }
   ],
   "source": [
    "df2"
   ]
  },
  {
   "cell_type": "markdown",
   "id": "ce1aca12",
   "metadata": {},
   "source": [
    "### Adding new Rows"
   ]
  },
  {
   "cell_type": "code",
   "execution_count": 25,
   "id": "b92e1be9",
   "metadata": {},
   "outputs": [
    {
     "data": {
      "text/html": [
       "<div>\n",
       "<style scoped>\n",
       "    .dataframe tbody tr th:only-of-type {\n",
       "        vertical-align: middle;\n",
       "    }\n",
       "\n",
       "    .dataframe tbody tr th {\n",
       "        vertical-align: top;\n",
       "    }\n",
       "\n",
       "    .dataframe thead th {\n",
       "        text-align: right;\n",
       "    }\n",
       "</style>\n",
       "<table border=\"1\" class=\"dataframe\">\n",
       "  <thead>\n",
       "    <tr style=\"text-align: right;\">\n",
       "      <th></th>\n",
       "      <th>Nacionality</th>\n",
       "      <th>Club</th>\n",
       "      <th>World_Champion</th>\n",
       "      <th>Height</th>\n",
       "      <th>Goals</th>\n",
       "    </tr>\n",
       "    <tr>\n",
       "      <th>Player</th>\n",
       "      <th></th>\n",
       "      <th></th>\n",
       "      <th></th>\n",
       "      <th></th>\n",
       "      <th></th>\n",
       "    </tr>\n",
       "  </thead>\n",
       "  <tbody>\n",
       "    <tr>\n",
       "      <th>Lionel</th>\n",
       "      <td>Arg</td>\n",
       "      <td>Barcelona</td>\n",
       "      <td>True</td>\n",
       "      <td>1.70</td>\n",
       "      <td>45</td>\n",
       "    </tr>\n",
       "    <tr>\n",
       "      <th>Cristiano</th>\n",
       "      <td>Por</td>\n",
       "      <td>Juventus</td>\n",
       "      <td>False</td>\n",
       "      <td>1.87</td>\n",
       "      <td>44</td>\n",
       "    </tr>\n",
       "    <tr>\n",
       "      <th>Rogério</th>\n",
       "      <td>Bra</td>\n",
       "      <td>São Paulo</td>\n",
       "      <td>True</td>\n",
       "      <td>1.75</td>\n",
       "      <td>106</td>\n",
       "    </tr>\n",
       "    <tr>\n",
       "      <th>Kylian</th>\n",
       "      <td>Fra</td>\n",
       "      <td>PSG</td>\n",
       "      <td>False</td>\n",
       "      <td>1.78</td>\n",
       "      <td>28</td>\n",
       "    </tr>\n",
       "    <tr>\n",
       "      <th>Neuer</th>\n",
       "      <td>Ger</td>\n",
       "      <td>Bayern</td>\n",
       "      <td>True</td>\n",
       "      <td>1.93</td>\n",
       "      <td>0</td>\n",
       "    </tr>\n",
       "  </tbody>\n",
       "</table>\n",
       "</div>"
      ],
      "text/plain": [
       "          Nacionality       Club  World_Champion  Height  Goals\n",
       "Player                                                         \n",
       "Lionel            Arg  Barcelona            True    1.70     45\n",
       "Cristiano         Por   Juventus           False    1.87     44\n",
       "Rogério           Bra  São Paulo            True    1.75    106\n",
       "Kylian            Fra        PSG           False    1.78     28\n",
       "Neuer             Ger     Bayern            True    1.93      0"
      ]
     },
     "execution_count": 25,
     "metadata": {},
     "output_type": "execute_result"
    }
   ],
   "source": [
    "players"
   ]
  },
  {
   "cell_type": "code",
   "execution_count": 26,
   "id": "6ca2f8b4",
   "metadata": {},
   "outputs": [],
   "source": [
    "players.reset_index(inplace=True)"
   ]
  },
  {
   "cell_type": "code",
   "execution_count": 27,
   "id": "b4c00d1f",
   "metadata": {},
   "outputs": [
    {
     "data": {
      "text/html": [
       "<div>\n",
       "<style scoped>\n",
       "    .dataframe tbody tr th:only-of-type {\n",
       "        vertical-align: middle;\n",
       "    }\n",
       "\n",
       "    .dataframe tbody tr th {\n",
       "        vertical-align: top;\n",
       "    }\n",
       "\n",
       "    .dataframe thead th {\n",
       "        text-align: right;\n",
       "    }\n",
       "</style>\n",
       "<table border=\"1\" class=\"dataframe\">\n",
       "  <thead>\n",
       "    <tr style=\"text-align: right;\">\n",
       "      <th></th>\n",
       "      <th>Player</th>\n",
       "      <th>Nacionality</th>\n",
       "      <th>Club</th>\n",
       "      <th>World_Champion</th>\n",
       "      <th>Height</th>\n",
       "      <th>Goals</th>\n",
       "    </tr>\n",
       "  </thead>\n",
       "  <tbody>\n",
       "    <tr>\n",
       "      <th>0</th>\n",
       "      <td>Lionel</td>\n",
       "      <td>Arg</td>\n",
       "      <td>Barcelona</td>\n",
       "      <td>True</td>\n",
       "      <td>1.70</td>\n",
       "      <td>45</td>\n",
       "    </tr>\n",
       "    <tr>\n",
       "      <th>1</th>\n",
       "      <td>Cristiano</td>\n",
       "      <td>Por</td>\n",
       "      <td>Juventus</td>\n",
       "      <td>False</td>\n",
       "      <td>1.87</td>\n",
       "      <td>44</td>\n",
       "    </tr>\n",
       "    <tr>\n",
       "      <th>2</th>\n",
       "      <td>Rogério</td>\n",
       "      <td>Bra</td>\n",
       "      <td>São Paulo</td>\n",
       "      <td>True</td>\n",
       "      <td>1.75</td>\n",
       "      <td>106</td>\n",
       "    </tr>\n",
       "    <tr>\n",
       "      <th>3</th>\n",
       "      <td>Kylian</td>\n",
       "      <td>Fra</td>\n",
       "      <td>PSG</td>\n",
       "      <td>False</td>\n",
       "      <td>1.78</td>\n",
       "      <td>28</td>\n",
       "    </tr>\n",
       "    <tr>\n",
       "      <th>4</th>\n",
       "      <td>Neuer</td>\n",
       "      <td>Ger</td>\n",
       "      <td>Bayern</td>\n",
       "      <td>True</td>\n",
       "      <td>1.93</td>\n",
       "      <td>0</td>\n",
       "    </tr>\n",
       "  </tbody>\n",
       "</table>\n",
       "</div>"
      ],
      "text/plain": [
       "      Player Nacionality       Club  World_Champion  Height  Goals\n",
       "0     Lionel         Arg  Barcelona            True    1.70     45\n",
       "1  Cristiano         Por   Juventus           False    1.87     44\n",
       "2    Rogério         Bra  São Paulo            True    1.75    106\n",
       "3     Kylian         Fra        PSG           False    1.78     28\n",
       "4      Neuer         Ger     Bayern            True    1.93      0"
      ]
     },
     "execution_count": 27,
     "metadata": {},
     "output_type": "execute_result"
    }
   ],
   "source": [
    "players"
   ]
  },
  {
   "cell_type": "code",
   "execution_count": 29,
   "id": "d246924f",
   "metadata": {},
   "outputs": [],
   "source": [
    "players.loc[5,:] = [\"Sergio Ramos\", \"Spa\", \"Real Madrid\", \"True\", 1.84, 5]"
   ]
  },
  {
   "cell_type": "code",
   "execution_count": 30,
   "id": "7090ca99",
   "metadata": {},
   "outputs": [
    {
     "data": {
      "text/html": [
       "<div>\n",
       "<style scoped>\n",
       "    .dataframe tbody tr th:only-of-type {\n",
       "        vertical-align: middle;\n",
       "    }\n",
       "\n",
       "    .dataframe tbody tr th {\n",
       "        vertical-align: top;\n",
       "    }\n",
       "\n",
       "    .dataframe thead th {\n",
       "        text-align: right;\n",
       "    }\n",
       "</style>\n",
       "<table border=\"1\" class=\"dataframe\">\n",
       "  <thead>\n",
       "    <tr style=\"text-align: right;\">\n",
       "      <th></th>\n",
       "      <th>Player</th>\n",
       "      <th>Nacionality</th>\n",
       "      <th>Club</th>\n",
       "      <th>World_Champion</th>\n",
       "      <th>Height</th>\n",
       "      <th>Goals</th>\n",
       "    </tr>\n",
       "  </thead>\n",
       "  <tbody>\n",
       "    <tr>\n",
       "      <th>0</th>\n",
       "      <td>Lionel</td>\n",
       "      <td>Arg</td>\n",
       "      <td>Barcelona</td>\n",
       "      <td>True</td>\n",
       "      <td>1.70</td>\n",
       "      <td>45.0</td>\n",
       "    </tr>\n",
       "    <tr>\n",
       "      <th>1</th>\n",
       "      <td>Cristiano</td>\n",
       "      <td>Por</td>\n",
       "      <td>Juventus</td>\n",
       "      <td>False</td>\n",
       "      <td>1.87</td>\n",
       "      <td>44.0</td>\n",
       "    </tr>\n",
       "    <tr>\n",
       "      <th>2</th>\n",
       "      <td>Rogério</td>\n",
       "      <td>Bra</td>\n",
       "      <td>São Paulo</td>\n",
       "      <td>True</td>\n",
       "      <td>1.75</td>\n",
       "      <td>106.0</td>\n",
       "    </tr>\n",
       "    <tr>\n",
       "      <th>3</th>\n",
       "      <td>Kylian</td>\n",
       "      <td>Fra</td>\n",
       "      <td>PSG</td>\n",
       "      <td>False</td>\n",
       "      <td>1.78</td>\n",
       "      <td>28.0</td>\n",
       "    </tr>\n",
       "    <tr>\n",
       "      <th>4</th>\n",
       "      <td>Neuer</td>\n",
       "      <td>Ger</td>\n",
       "      <td>Bayern</td>\n",
       "      <td>True</td>\n",
       "      <td>1.93</td>\n",
       "      <td>0.0</td>\n",
       "    </tr>\n",
       "    <tr>\n",
       "      <th>5</th>\n",
       "      <td>Sergio Ramos</td>\n",
       "      <td>Spa</td>\n",
       "      <td>Real Madrid</td>\n",
       "      <td>True</td>\n",
       "      <td>1.84</td>\n",
       "      <td>5.0</td>\n",
       "    </tr>\n",
       "  </tbody>\n",
       "</table>\n",
       "</div>"
      ],
      "text/plain": [
       "         Player Nacionality         Club World_Champion  Height  Goals\n",
       "0        Lionel         Arg    Barcelona           True    1.70   45.0\n",
       "1     Cristiano         Por     Juventus          False    1.87   44.0\n",
       "2       Rogério         Bra    São Paulo           True    1.75  106.0\n",
       "3        Kylian         Fra          PSG          False    1.78   28.0\n",
       "4         Neuer         Ger       Bayern           True    1.93    0.0\n",
       "5  Sergio Ramos         Spa  Real Madrid           True    1.84    5.0"
      ]
     },
     "execution_count": 30,
     "metadata": {},
     "output_type": "execute_result"
    }
   ],
   "source": [
    "players"
   ]
  },
  {
   "cell_type": "markdown",
   "id": "325a953f",
   "metadata": {},
   "source": [
    "### Adding many rows"
   ]
  },
  {
   "cell_type": "code",
   "execution_count": 31,
   "id": "0b062e64",
   "metadata": {},
   "outputs": [],
   "source": [
    "new = pd.DataFrame(\n",
    "                    data = [[\"Salah\", \"Egy\", \"Liverpool\", \"False\", 1.75, 44],\n",
    "                            [\"Suarez\", \"Uru\", \"Barcelona\", \"False\", 1.82, 31]], \n",
    "                    columns = players.columns)"
   ]
  },
  {
   "cell_type": "code",
   "execution_count": 32,
   "id": "d3950354",
   "metadata": {},
   "outputs": [
    {
     "data": {
      "text/html": [
       "<div>\n",
       "<style scoped>\n",
       "    .dataframe tbody tr th:only-of-type {\n",
       "        vertical-align: middle;\n",
       "    }\n",
       "\n",
       "    .dataframe tbody tr th {\n",
       "        vertical-align: top;\n",
       "    }\n",
       "\n",
       "    .dataframe thead th {\n",
       "        text-align: right;\n",
       "    }\n",
       "</style>\n",
       "<table border=\"1\" class=\"dataframe\">\n",
       "  <thead>\n",
       "    <tr style=\"text-align: right;\">\n",
       "      <th></th>\n",
       "      <th>Player</th>\n",
       "      <th>Nacionality</th>\n",
       "      <th>Club</th>\n",
       "      <th>World_Champion</th>\n",
       "      <th>Height</th>\n",
       "      <th>Goals</th>\n",
       "    </tr>\n",
       "  </thead>\n",
       "  <tbody>\n",
       "    <tr>\n",
       "      <th>0</th>\n",
       "      <td>Salah</td>\n",
       "      <td>Egy</td>\n",
       "      <td>Liverpool</td>\n",
       "      <td>False</td>\n",
       "      <td>1.75</td>\n",
       "      <td>44</td>\n",
       "    </tr>\n",
       "    <tr>\n",
       "      <th>1</th>\n",
       "      <td>Suarez</td>\n",
       "      <td>Uru</td>\n",
       "      <td>Barcelona</td>\n",
       "      <td>False</td>\n",
       "      <td>1.82</td>\n",
       "      <td>31</td>\n",
       "    </tr>\n",
       "  </tbody>\n",
       "</table>\n",
       "</div>"
      ],
      "text/plain": [
       "   Player Nacionality       Club World_Champion  Height  Goals\n",
       "0   Salah         Egy  Liverpool          False    1.75     44\n",
       "1  Suarez         Uru  Barcelona          False    1.82     31"
      ]
     },
     "execution_count": 32,
     "metadata": {},
     "output_type": "execute_result"
    }
   ],
   "source": [
    "new"
   ]
  },
  {
   "cell_type": "code",
   "execution_count": 33,
   "id": "32e9fe16",
   "metadata": {},
   "outputs": [],
   "source": [
    "players = players.append(new, ignore_index=True)"
   ]
  },
  {
   "cell_type": "code",
   "execution_count": 34,
   "id": "f9478db6",
   "metadata": {},
   "outputs": [
    {
     "data": {
      "text/html": [
       "<div>\n",
       "<style scoped>\n",
       "    .dataframe tbody tr th:only-of-type {\n",
       "        vertical-align: middle;\n",
       "    }\n",
       "\n",
       "    .dataframe tbody tr th {\n",
       "        vertical-align: top;\n",
       "    }\n",
       "\n",
       "    .dataframe thead th {\n",
       "        text-align: right;\n",
       "    }\n",
       "</style>\n",
       "<table border=\"1\" class=\"dataframe\">\n",
       "  <thead>\n",
       "    <tr style=\"text-align: right;\">\n",
       "      <th></th>\n",
       "      <th>Player</th>\n",
       "      <th>Nacionality</th>\n",
       "      <th>Club</th>\n",
       "      <th>World_Champion</th>\n",
       "      <th>Height</th>\n",
       "      <th>Goals</th>\n",
       "    </tr>\n",
       "  </thead>\n",
       "  <tbody>\n",
       "    <tr>\n",
       "      <th>0</th>\n",
       "      <td>Lionel</td>\n",
       "      <td>Arg</td>\n",
       "      <td>Barcelona</td>\n",
       "      <td>True</td>\n",
       "      <td>1.70</td>\n",
       "      <td>45.0</td>\n",
       "    </tr>\n",
       "    <tr>\n",
       "      <th>1</th>\n",
       "      <td>Cristiano</td>\n",
       "      <td>Por</td>\n",
       "      <td>Juventus</td>\n",
       "      <td>False</td>\n",
       "      <td>1.87</td>\n",
       "      <td>44.0</td>\n",
       "    </tr>\n",
       "    <tr>\n",
       "      <th>2</th>\n",
       "      <td>Rogério</td>\n",
       "      <td>Bra</td>\n",
       "      <td>São Paulo</td>\n",
       "      <td>True</td>\n",
       "      <td>1.75</td>\n",
       "      <td>106.0</td>\n",
       "    </tr>\n",
       "    <tr>\n",
       "      <th>3</th>\n",
       "      <td>Kylian</td>\n",
       "      <td>Fra</td>\n",
       "      <td>PSG</td>\n",
       "      <td>False</td>\n",
       "      <td>1.78</td>\n",
       "      <td>28.0</td>\n",
       "    </tr>\n",
       "    <tr>\n",
       "      <th>4</th>\n",
       "      <td>Neuer</td>\n",
       "      <td>Ger</td>\n",
       "      <td>Bayern</td>\n",
       "      <td>True</td>\n",
       "      <td>1.93</td>\n",
       "      <td>0.0</td>\n",
       "    </tr>\n",
       "    <tr>\n",
       "      <th>5</th>\n",
       "      <td>Sergio Ramos</td>\n",
       "      <td>Spa</td>\n",
       "      <td>Real Madrid</td>\n",
       "      <td>True</td>\n",
       "      <td>1.84</td>\n",
       "      <td>5.0</td>\n",
       "    </tr>\n",
       "    <tr>\n",
       "      <th>6</th>\n",
       "      <td>Salah</td>\n",
       "      <td>Egy</td>\n",
       "      <td>Liverpool</td>\n",
       "      <td>False</td>\n",
       "      <td>1.75</td>\n",
       "      <td>44.0</td>\n",
       "    </tr>\n",
       "    <tr>\n",
       "      <th>7</th>\n",
       "      <td>Suarez</td>\n",
       "      <td>Uru</td>\n",
       "      <td>Barcelona</td>\n",
       "      <td>False</td>\n",
       "      <td>1.82</td>\n",
       "      <td>31.0</td>\n",
       "    </tr>\n",
       "  </tbody>\n",
       "</table>\n",
       "</div>"
      ],
      "text/plain": [
       "         Player Nacionality         Club World_Champion  Height  Goals\n",
       "0        Lionel         Arg    Barcelona           True    1.70   45.0\n",
       "1     Cristiano         Por     Juventus          False    1.87   44.0\n",
       "2       Rogério         Bra    São Paulo           True    1.75  106.0\n",
       "3        Kylian         Fra          PSG          False    1.78   28.0\n",
       "4         Neuer         Ger       Bayern           True    1.93    0.0\n",
       "5  Sergio Ramos         Spa  Real Madrid           True    1.84    5.0\n",
       "6         Salah         Egy    Liverpool          False    1.75   44.0\n",
       "7        Suarez         Uru    Barcelona          False    1.82   31.0"
      ]
     },
     "execution_count": 34,
     "metadata": {},
     "output_type": "execute_result"
    }
   ],
   "source": [
    "players"
   ]
  },
  {
   "cell_type": "code",
   "execution_count": null,
   "id": "ae4c7546",
   "metadata": {},
   "outputs": [],
   "source": []
  }
 ],
 "metadata": {
  "kernelspec": {
   "display_name": "Python 3",
   "language": "python",
   "name": "python3"
  },
  "language_info": {
   "codemirror_mode": {
    "name": "ipython",
    "version": 3
   },
   "file_extension": ".py",
   "mimetype": "text/x-python",
   "name": "python",
   "nbconvert_exporter": "python",
   "pygments_lexer": "ipython3",
   "version": "3.8.8"
  }
 },
 "nbformat": 4,
 "nbformat_minor": 5
}
