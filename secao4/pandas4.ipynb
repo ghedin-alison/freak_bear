{
 "cells": [
  {
   "cell_type": "markdown",
   "id": "c9bfe971",
   "metadata": {},
   "source": [
    "## Creating Pandas Series"
   ]
  },
  {
   "cell_type": "markdown",
   "id": "8dfdd5cd",
   "metadata": {},
   "source": [
    "#### Import de bibliotecas"
   ]
  },
  {
   "cell_type": "code",
   "execution_count": 19,
   "id": "11d598e1",
   "metadata": {},
   "outputs": [],
   "source": [
    "import pandas as pd\n",
    "import numpy as np"
   ]
  },
  {
   "cell_type": "code",
   "execution_count": 2,
   "id": "8cb97b5c",
   "metadata": {},
   "outputs": [],
   "source": [
    "summer = pd.read_csv('../Course_Materials_Part1/Video_Lecture_NBs/summer.csv')"
   ]
  },
  {
   "cell_type": "code",
   "execution_count": 3,
   "id": "9786e39a",
   "metadata": {},
   "outputs": [
    {
     "data": {
      "text/html": [
       "<div>\n",
       "<style scoped>\n",
       "    .dataframe tbody tr th:only-of-type {\n",
       "        vertical-align: middle;\n",
       "    }\n",
       "\n",
       "    .dataframe tbody tr th {\n",
       "        vertical-align: top;\n",
       "    }\n",
       "\n",
       "    .dataframe thead th {\n",
       "        text-align: right;\n",
       "    }\n",
       "</style>\n",
       "<table border=\"1\" class=\"dataframe\">\n",
       "  <thead>\n",
       "    <tr style=\"text-align: right;\">\n",
       "      <th></th>\n",
       "      <th>Year</th>\n",
       "      <th>City</th>\n",
       "      <th>Sport</th>\n",
       "      <th>Discipline</th>\n",
       "      <th>Athlete</th>\n",
       "      <th>Country</th>\n",
       "      <th>Gender</th>\n",
       "      <th>Event</th>\n",
       "      <th>Medal</th>\n",
       "    </tr>\n",
       "  </thead>\n",
       "  <tbody>\n",
       "    <tr>\n",
       "      <th>0</th>\n",
       "      <td>1896</td>\n",
       "      <td>Athens</td>\n",
       "      <td>Aquatics</td>\n",
       "      <td>Swimming</td>\n",
       "      <td>HAJOS, Alfred</td>\n",
       "      <td>HUN</td>\n",
       "      <td>Men</td>\n",
       "      <td>100M Freestyle</td>\n",
       "      <td>Gold</td>\n",
       "    </tr>\n",
       "    <tr>\n",
       "      <th>1</th>\n",
       "      <td>1896</td>\n",
       "      <td>Athens</td>\n",
       "      <td>Aquatics</td>\n",
       "      <td>Swimming</td>\n",
       "      <td>HERSCHMANN, Otto</td>\n",
       "      <td>AUT</td>\n",
       "      <td>Men</td>\n",
       "      <td>100M Freestyle</td>\n",
       "      <td>Silver</td>\n",
       "    </tr>\n",
       "    <tr>\n",
       "      <th>2</th>\n",
       "      <td>1896</td>\n",
       "      <td>Athens</td>\n",
       "      <td>Aquatics</td>\n",
       "      <td>Swimming</td>\n",
       "      <td>DRIVAS, Dimitrios</td>\n",
       "      <td>GRE</td>\n",
       "      <td>Men</td>\n",
       "      <td>100M Freestyle For Sailors</td>\n",
       "      <td>Bronze</td>\n",
       "    </tr>\n",
       "    <tr>\n",
       "      <th>3</th>\n",
       "      <td>1896</td>\n",
       "      <td>Athens</td>\n",
       "      <td>Aquatics</td>\n",
       "      <td>Swimming</td>\n",
       "      <td>MALOKINIS, Ioannis</td>\n",
       "      <td>GRE</td>\n",
       "      <td>Men</td>\n",
       "      <td>100M Freestyle For Sailors</td>\n",
       "      <td>Gold</td>\n",
       "    </tr>\n",
       "    <tr>\n",
       "      <th>4</th>\n",
       "      <td>1896</td>\n",
       "      <td>Athens</td>\n",
       "      <td>Aquatics</td>\n",
       "      <td>Swimming</td>\n",
       "      <td>CHASAPIS, Spiridon</td>\n",
       "      <td>GRE</td>\n",
       "      <td>Men</td>\n",
       "      <td>100M Freestyle For Sailors</td>\n",
       "      <td>Silver</td>\n",
       "    </tr>\n",
       "  </tbody>\n",
       "</table>\n",
       "</div>"
      ],
      "text/plain": [
       "   Year    City     Sport Discipline             Athlete Country Gender  \\\n",
       "0  1896  Athens  Aquatics   Swimming       HAJOS, Alfred     HUN    Men   \n",
       "1  1896  Athens  Aquatics   Swimming    HERSCHMANN, Otto     AUT    Men   \n",
       "2  1896  Athens  Aquatics   Swimming   DRIVAS, Dimitrios     GRE    Men   \n",
       "3  1896  Athens  Aquatics   Swimming  MALOKINIS, Ioannis     GRE    Men   \n",
       "4  1896  Athens  Aquatics   Swimming  CHASAPIS, Spiridon     GRE    Men   \n",
       "\n",
       "                        Event   Medal  \n",
       "0              100M Freestyle    Gold  \n",
       "1              100M Freestyle  Silver  \n",
       "2  100M Freestyle For Sailors  Bronze  \n",
       "3  100M Freestyle For Sailors    Gold  \n",
       "4  100M Freestyle For Sailors  Silver  "
      ]
     },
     "execution_count": 3,
     "metadata": {},
     "output_type": "execute_result"
    }
   ],
   "source": [
    "summer.head()"
   ]
  },
  {
   "cell_type": "code",
   "execution_count": 4,
   "id": "22fdf616",
   "metadata": {},
   "outputs": [
    {
     "data": {
      "text/plain": [
       "0                    HAJOS, Alfred\n",
       "1                 HERSCHMANN, Otto\n",
       "2                DRIVAS, Dimitrios\n",
       "3               MALOKINIS, Ioannis\n",
       "4               CHASAPIS, Spiridon\n",
       "                   ...            \n",
       "31160           JANIKOWSKI, Damian\n",
       "31161    REZAEI, Ghasem Gholamreza\n",
       "31162               TOTROV, Rustam\n",
       "31163            ALEKSANYAN, Artur\n",
       "31164               LIDBERG, Jimmy\n",
       "Name: Athlete, Length: 31165, dtype: object"
      ]
     },
     "execution_count": 4,
     "metadata": {},
     "output_type": "execute_result"
    }
   ],
   "source": [
    "summer[\"Athlete\"]"
   ]
  },
  {
   "cell_type": "code",
   "execution_count": 5,
   "id": "0ef9019e",
   "metadata": {},
   "outputs": [
    {
     "data": {
      "text/plain": [
       "0                    HAJOS, Alfred\n",
       "1                 HERSCHMANN, Otto\n",
       "2                DRIVAS, Dimitrios\n",
       "3               MALOKINIS, Ioannis\n",
       "4               CHASAPIS, Spiridon\n",
       "                   ...            \n",
       "31160           JANIKOWSKI, Damian\n",
       "31161    REZAEI, Ghasem Gholamreza\n",
       "31162               TOTROV, Rustam\n",
       "31163            ALEKSANYAN, Artur\n",
       "31164               LIDBERG, Jimmy\n",
       "Name: Athlete, Length: 31165, dtype: object"
      ]
     },
     "execution_count": 5,
     "metadata": {},
     "output_type": "execute_result"
    }
   ],
   "source": [
    "summer.Athlete"
   ]
  },
  {
   "cell_type": "code",
   "execution_count": 8,
   "id": "e2f95ab6",
   "metadata": {},
   "outputs": [
    {
     "data": {
      "text/plain": [
       "Year                    1896\n",
       "City                  Athens\n",
       "Sport               Aquatics\n",
       "Discipline          Swimming\n",
       "Athlete        HAJOS, Alfred\n",
       "Country                  HUN\n",
       "Gender                   Men\n",
       "Event         100M Freestyle\n",
       "Medal                   Gold\n",
       "Name: 0, dtype: object"
      ]
     },
     "execution_count": 8,
     "metadata": {},
     "output_type": "execute_result"
    }
   ],
   "source": [
    "summer.iloc[0]"
   ]
  },
  {
   "cell_type": "markdown",
   "id": "ba7daead",
   "metadata": {},
   "source": [
    "#### new import from csv"
   ]
  },
  {
   "cell_type": "code",
   "execution_count": 14,
   "id": "3e1aae85",
   "metadata": {},
   "outputs": [],
   "source": [
    "summer = pd.read_csv(\"../Course_Materials_Part1/Video_Lecture_NBs/summer.csv\", \n",
    "                     usecols = [\"Athlete\"], squeeze=True).head()"
   ]
  },
  {
   "cell_type": "code",
   "execution_count": 15,
   "id": "e051b2ad",
   "metadata": {},
   "outputs": [
    {
     "data": {
      "text/plain": [
       "0         HAJOS, Alfred\n",
       "1      HERSCHMANN, Otto\n",
       "2     DRIVAS, Dimitrios\n",
       "3    MALOKINIS, Ioannis\n",
       "4    CHASAPIS, Spiridon\n",
       "Name: Athlete, dtype: object"
      ]
     },
     "execution_count": 15,
     "metadata": {},
     "output_type": "execute_result"
    }
   ],
   "source": [
    "summer"
   ]
  },
  {
   "cell_type": "markdown",
   "id": "6c501620",
   "metadata": {},
   "source": [
    "### Creating from scratch with pd.Series()"
   ]
  },
  {
   "cell_type": "code",
   "execution_count": 16,
   "id": "0736b010",
   "metadata": {},
   "outputs": [
    {
     "data": {
      "text/plain": [
       "0    10\n",
       "1    25\n",
       "2     6\n",
       "3    36\n",
       "4     8\n",
       "dtype: int64"
      ]
     },
     "execution_count": 16,
     "metadata": {},
     "output_type": "execute_result"
    }
   ],
   "source": [
    "pd.Series([10, 25, 6, 36, 8])"
   ]
  },
  {
   "cell_type": "code",
   "execution_count": 17,
   "id": "182633fc",
   "metadata": {},
   "outputs": [
    {
     "data": {
      "text/plain": [
       "Mon    10\n",
       "Tue    25\n",
       "Wed     6\n",
       "Thu    36\n",
       "Fri     8\n",
       "dtype: int64"
      ]
     },
     "execution_count": 17,
     "metadata": {},
     "output_type": "execute_result"
    }
   ],
   "source": [
    "pd.Series([10, 25, 6, 36, 8], index = [\"Mon\", \"Tue\", \"Wed\", \"Thu\", \"Fri\"])"
   ]
  },
  {
   "cell_type": "code",
   "execution_count": 18,
   "id": "f877262f",
   "metadata": {},
   "outputs": [
    {
     "data": {
      "text/plain": [
       "Mon    10\n",
       "Tue    25\n",
       "Wed     6\n",
       "Thu    36\n",
       "Fri     8\n",
       "Name: Sales, dtype: int64"
      ]
     },
     "execution_count": 18,
     "metadata": {},
     "output_type": "execute_result"
    }
   ],
   "source": [
    "pd.Series([10, 25, 6, 36, 8], index = [\"Mon\", \"Tue\", \"Wed\", \"Thu\", \"Fri\"], name= \"Sales\")"
   ]
  },
  {
   "cell_type": "markdown",
   "id": "ae1b0efe",
   "metadata": {},
   "source": [
    "### Creating Panda Series with numpy"
   ]
  },
  {
   "cell_type": "code",
   "execution_count": 20,
   "id": "c02d1801",
   "metadata": {},
   "outputs": [],
   "source": [
    "sales = np.array([5, 6, 8, 12, 3])"
   ]
  },
  {
   "cell_type": "code",
   "execution_count": 21,
   "id": "72b5402a",
   "metadata": {},
   "outputs": [
    {
     "data": {
      "text/plain": [
       "array([ 5,  6,  8, 12,  3])"
      ]
     },
     "execution_count": 21,
     "metadata": {},
     "output_type": "execute_result"
    }
   ],
   "source": [
    "sales"
   ]
  },
  {
   "cell_type": "code",
   "execution_count": 22,
   "id": "bba28ad2",
   "metadata": {},
   "outputs": [
    {
     "data": {
      "text/plain": [
       "0     5\n",
       "1     6\n",
       "2     8\n",
       "3    12\n",
       "4     3\n",
       "dtype: int64"
      ]
     },
     "execution_count": 22,
     "metadata": {},
     "output_type": "execute_result"
    }
   ],
   "source": [
    "pd.Series(sales)"
   ]
  },
  {
   "cell_type": "code",
   "execution_count": 23,
   "id": "4fa3bc87",
   "metadata": {},
   "outputs": [],
   "source": [
    "vendas = [5, 9, 7, 5, 4]"
   ]
  },
  {
   "cell_type": "code",
   "execution_count": 24,
   "id": "e51c9846",
   "metadata": {},
   "outputs": [
    {
     "data": {
      "text/plain": [
       "0     5\n",
       "1     6\n",
       "2     8\n",
       "3    12\n",
       "4     3\n",
       "dtype: int64"
      ]
     },
     "execution_count": 24,
     "metadata": {},
     "output_type": "execute_result"
    }
   ],
   "source": [
    "pd.Series(sales)"
   ]
  },
  {
   "cell_type": "markdown",
   "id": "bf9fd64b",
   "metadata": {},
   "source": [
    "#### From dictionary"
   ]
  },
  {
   "cell_type": "code",
   "execution_count": 25,
   "id": "8627c15c",
   "metadata": {},
   "outputs": [],
   "source": [
    "dic = {\"Mon\": 10, \"Tue\": 2, \"Wed\": 5, \"Thu\": 3, \"Fri\": 8}"
   ]
  },
  {
   "cell_type": "code",
   "execution_count": 26,
   "id": "4531bcfe",
   "metadata": {},
   "outputs": [],
   "source": [
    "sales = pd.Series(dic)"
   ]
  },
  {
   "cell_type": "code",
   "execution_count": 27,
   "id": "0ce5823b",
   "metadata": {},
   "outputs": [
    {
     "data": {
      "text/plain": [
       "Mon    10\n",
       "Tue     2\n",
       "Wed     5\n",
       "Thu     3\n",
       "Fri     8\n",
       "dtype: int64"
      ]
     },
     "execution_count": 27,
     "metadata": {},
     "output_type": "execute_result"
    }
   ],
   "source": [
    "sales"
   ]
  },
  {
   "cell_type": "code",
   "execution_count": 28,
   "id": "4f95037b",
   "metadata": {},
   "outputs": [
    {
     "data": {
      "text/plain": [
       "1   NaN\n",
       "2   NaN\n",
       "3   NaN\n",
       "4   NaN\n",
       "5   NaN\n",
       "dtype: float64"
      ]
     },
     "execution_count": 28,
     "metadata": {},
     "output_type": "execute_result"
    }
   ],
   "source": [
    "pd.Series(dic, index=[1,2,3,4,5])"
   ]
  },
  {
   "cell_type": "markdown",
   "id": "0126724e",
   "metadata": {},
   "source": [
    "### Indexing and Slicing Series"
   ]
  },
  {
   "cell_type": "code",
   "execution_count": 29,
   "id": "a35dd7c0",
   "metadata": {},
   "outputs": [],
   "source": [
    "titanic = pd.read_csv('../Course_Materials_Part1/Video_Lecture_NBs/titanic.csv')"
   ]
  },
  {
   "cell_type": "code",
   "execution_count": 30,
   "id": "af2abf4a",
   "metadata": {},
   "outputs": [
    {
     "data": {
      "text/html": [
       "<div>\n",
       "<style scoped>\n",
       "    .dataframe tbody tr th:only-of-type {\n",
       "        vertical-align: middle;\n",
       "    }\n",
       "\n",
       "    .dataframe tbody tr th {\n",
       "        vertical-align: top;\n",
       "    }\n",
       "\n",
       "    .dataframe thead th {\n",
       "        text-align: right;\n",
       "    }\n",
       "</style>\n",
       "<table border=\"1\" class=\"dataframe\">\n",
       "  <thead>\n",
       "    <tr style=\"text-align: right;\">\n",
       "      <th></th>\n",
       "      <th>survived</th>\n",
       "      <th>pclass</th>\n",
       "      <th>sex</th>\n",
       "      <th>age</th>\n",
       "      <th>sibsp</th>\n",
       "      <th>parch</th>\n",
       "      <th>fare</th>\n",
       "      <th>embarked</th>\n",
       "      <th>deck</th>\n",
       "    </tr>\n",
       "  </thead>\n",
       "  <tbody>\n",
       "    <tr>\n",
       "      <th>0</th>\n",
       "      <td>0</td>\n",
       "      <td>3</td>\n",
       "      <td>male</td>\n",
       "      <td>22.0</td>\n",
       "      <td>1</td>\n",
       "      <td>0</td>\n",
       "      <td>7.2500</td>\n",
       "      <td>S</td>\n",
       "      <td>NaN</td>\n",
       "    </tr>\n",
       "    <tr>\n",
       "      <th>1</th>\n",
       "      <td>1</td>\n",
       "      <td>1</td>\n",
       "      <td>female</td>\n",
       "      <td>38.0</td>\n",
       "      <td>1</td>\n",
       "      <td>0</td>\n",
       "      <td>71.2833</td>\n",
       "      <td>C</td>\n",
       "      <td>C</td>\n",
       "    </tr>\n",
       "    <tr>\n",
       "      <th>2</th>\n",
       "      <td>1</td>\n",
       "      <td>3</td>\n",
       "      <td>female</td>\n",
       "      <td>26.0</td>\n",
       "      <td>0</td>\n",
       "      <td>0</td>\n",
       "      <td>7.9250</td>\n",
       "      <td>S</td>\n",
       "      <td>NaN</td>\n",
       "    </tr>\n",
       "    <tr>\n",
       "      <th>3</th>\n",
       "      <td>1</td>\n",
       "      <td>1</td>\n",
       "      <td>female</td>\n",
       "      <td>35.0</td>\n",
       "      <td>1</td>\n",
       "      <td>0</td>\n",
       "      <td>53.1000</td>\n",
       "      <td>S</td>\n",
       "      <td>C</td>\n",
       "    </tr>\n",
       "    <tr>\n",
       "      <th>4</th>\n",
       "      <td>0</td>\n",
       "      <td>3</td>\n",
       "      <td>male</td>\n",
       "      <td>35.0</td>\n",
       "      <td>0</td>\n",
       "      <td>0</td>\n",
       "      <td>8.0500</td>\n",
       "      <td>S</td>\n",
       "      <td>NaN</td>\n",
       "    </tr>\n",
       "    <tr>\n",
       "      <th>...</th>\n",
       "      <td>...</td>\n",
       "      <td>...</td>\n",
       "      <td>...</td>\n",
       "      <td>...</td>\n",
       "      <td>...</td>\n",
       "      <td>...</td>\n",
       "      <td>...</td>\n",
       "      <td>...</td>\n",
       "      <td>...</td>\n",
       "    </tr>\n",
       "    <tr>\n",
       "      <th>886</th>\n",
       "      <td>0</td>\n",
       "      <td>2</td>\n",
       "      <td>male</td>\n",
       "      <td>27.0</td>\n",
       "      <td>0</td>\n",
       "      <td>0</td>\n",
       "      <td>13.0000</td>\n",
       "      <td>S</td>\n",
       "      <td>NaN</td>\n",
       "    </tr>\n",
       "    <tr>\n",
       "      <th>887</th>\n",
       "      <td>1</td>\n",
       "      <td>1</td>\n",
       "      <td>female</td>\n",
       "      <td>19.0</td>\n",
       "      <td>0</td>\n",
       "      <td>0</td>\n",
       "      <td>30.0000</td>\n",
       "      <td>S</td>\n",
       "      <td>B</td>\n",
       "    </tr>\n",
       "    <tr>\n",
       "      <th>888</th>\n",
       "      <td>0</td>\n",
       "      <td>3</td>\n",
       "      <td>female</td>\n",
       "      <td>NaN</td>\n",
       "      <td>1</td>\n",
       "      <td>2</td>\n",
       "      <td>23.4500</td>\n",
       "      <td>S</td>\n",
       "      <td>NaN</td>\n",
       "    </tr>\n",
       "    <tr>\n",
       "      <th>889</th>\n",
       "      <td>1</td>\n",
       "      <td>1</td>\n",
       "      <td>male</td>\n",
       "      <td>26.0</td>\n",
       "      <td>0</td>\n",
       "      <td>0</td>\n",
       "      <td>30.0000</td>\n",
       "      <td>C</td>\n",
       "      <td>C</td>\n",
       "    </tr>\n",
       "    <tr>\n",
       "      <th>890</th>\n",
       "      <td>0</td>\n",
       "      <td>3</td>\n",
       "      <td>male</td>\n",
       "      <td>32.0</td>\n",
       "      <td>0</td>\n",
       "      <td>0</td>\n",
       "      <td>7.7500</td>\n",
       "      <td>Q</td>\n",
       "      <td>NaN</td>\n",
       "    </tr>\n",
       "  </tbody>\n",
       "</table>\n",
       "<p>891 rows × 9 columns</p>\n",
       "</div>"
      ],
      "text/plain": [
       "     survived  pclass     sex   age  sibsp  parch     fare embarked deck\n",
       "0           0       3    male  22.0      1      0   7.2500        S  NaN\n",
       "1           1       1  female  38.0      1      0  71.2833        C    C\n",
       "2           1       3  female  26.0      0      0   7.9250        S  NaN\n",
       "3           1       1  female  35.0      1      0  53.1000        S    C\n",
       "4           0       3    male  35.0      0      0   8.0500        S  NaN\n",
       "..        ...     ...     ...   ...    ...    ...      ...      ...  ...\n",
       "886         0       2    male  27.0      0      0  13.0000        S  NaN\n",
       "887         1       1  female  19.0      0      0  30.0000        S    B\n",
       "888         0       3  female   NaN      1      2  23.4500        S  NaN\n",
       "889         1       1    male  26.0      0      0  30.0000        C    C\n",
       "890         0       3    male  32.0      0      0   7.7500        Q  NaN\n",
       "\n",
       "[891 rows x 9 columns]"
      ]
     },
     "execution_count": 30,
     "metadata": {},
     "output_type": "execute_result"
    }
   ],
   "source": [
    "titanic"
   ]
  },
  {
   "cell_type": "code",
   "execution_count": 31,
   "id": "b017b3fd",
   "metadata": {},
   "outputs": [],
   "source": [
    "age = titanic.age"
   ]
  },
  {
   "cell_type": "code",
   "execution_count": 32,
   "id": "1face95d",
   "metadata": {},
   "outputs": [
    {
     "data": {
      "text/plain": [
       "0    22.0\n",
       "1    38.0\n",
       "2    26.0\n",
       "3    35.0\n",
       "4    35.0\n",
       "Name: age, dtype: float64"
      ]
     },
     "execution_count": 32,
     "metadata": {},
     "output_type": "execute_result"
    }
   ],
   "source": [
    "age.head()"
   ]
  },
  {
   "cell_type": "code",
   "execution_count": 33,
   "id": "26e7a249",
   "metadata": {},
   "outputs": [
    {
     "data": {
      "text/plain": [
       "886    27.0\n",
       "887    19.0\n",
       "888     NaN\n",
       "889    26.0\n",
       "890    32.0\n",
       "Name: age, dtype: float64"
      ]
     },
     "execution_count": 33,
     "metadata": {},
     "output_type": "execute_result"
    }
   ],
   "source": [
    "age.tail()"
   ]
  },
  {
   "cell_type": "code",
   "execution_count": 34,
   "id": "cca5be6b",
   "metadata": {},
   "outputs": [
    {
     "data": {
      "text/plain": [
       "RangeIndex(start=0, stop=891, step=1)"
      ]
     },
     "execution_count": 34,
     "metadata": {},
     "output_type": "execute_result"
    }
   ],
   "source": [
    "age.index"
   ]
  },
  {
   "cell_type": "code",
   "execution_count": 35,
   "id": "eb07b988",
   "metadata": {},
   "outputs": [
    {
     "data": {
      "text/plain": [
       "22.0"
      ]
     },
     "execution_count": 35,
     "metadata": {},
     "output_type": "execute_result"
    }
   ],
   "source": [
    "age[0]"
   ]
  },
  {
   "cell_type": "code",
   "execution_count": 36,
   "id": "7eaa7b5e",
   "metadata": {},
   "outputs": [
    {
     "data": {
      "text/plain": [
       "26.0"
      ]
     },
     "execution_count": 36,
     "metadata": {},
     "output_type": "execute_result"
    }
   ],
   "source": [
    "age[2]"
   ]
  },
  {
   "cell_type": "code",
   "execution_count": 37,
   "id": "124c8085",
   "metadata": {},
   "outputs": [
    {
     "data": {
      "text/plain": [
       "32.0"
      ]
     },
     "execution_count": 37,
     "metadata": {},
     "output_type": "execute_result"
    }
   ],
   "source": [
    "age.iloc[-1]"
   ]
  },
  {
   "cell_type": "code",
   "execution_count": 39,
   "id": "96c75d1e",
   "metadata": {},
   "outputs": [],
   "source": [
    "# age[-1] doesn work"
   ]
  },
  {
   "cell_type": "code",
   "execution_count": 40,
   "id": "590e778c",
   "metadata": {},
   "outputs": [
    {
     "data": {
      "text/plain": [
       "32.0"
      ]
     },
     "execution_count": 40,
     "metadata": {},
     "output_type": "execute_result"
    }
   ],
   "source": [
    "age[890]"
   ]
  },
  {
   "cell_type": "code",
   "execution_count": 48,
   "id": "ecfeb702",
   "metadata": {},
   "outputs": [
    {
     "data": {
      "text/plain": [
       "3    35.0\n",
       "4    35.0\n",
       "Name: age, dtype: float64"
      ]
     },
     "execution_count": 48,
     "metadata": {},
     "output_type": "execute_result"
    }
   ],
   "source": [
    "age.iloc[[3,4]]"
   ]
  },
  {
   "cell_type": "code",
   "execution_count": 50,
   "id": "3e5bcc92",
   "metadata": {},
   "outputs": [
    {
     "data": {
      "text/plain": [
       "0    22.0\n",
       "1    38.0\n",
       "2    26.0\n",
       "3    35.0\n",
       "4    35.0\n",
       "5     NaN\n",
       "6    54.0\n",
       "7     2.0\n",
       "Name: age, dtype: float64"
      ]
     },
     "execution_count": 50,
     "metadata": {},
     "output_type": "execute_result"
    }
   ],
   "source": [
    "age.iloc[:8] # best practice uses iloc to index and slicing panda series"
   ]
  },
  {
   "cell_type": "code",
   "execution_count": 51,
   "id": "1bdd2889",
   "metadata": {},
   "outputs": [
    {
     "data": {
      "text/plain": [
       "5     NaN\n",
       "6    54.0\n",
       "7     2.0\n",
       "8    27.0\n",
       "Name: age, dtype: float64"
      ]
     },
     "execution_count": 51,
     "metadata": {},
     "output_type": "execute_result"
    }
   ],
   "source": [
    "age[5:9]"
   ]
  },
  {
   "cell_type": "code",
   "execution_count": 52,
   "id": "810fc830",
   "metadata": {},
   "outputs": [],
   "source": [
    "summer = pd.read_csv(\"../Course_Materials_Part1/Video_Lecture_NBs/summer.csv\", \n",
    "                     index_col = [\"Athlete\"])"
   ]
  },
  {
   "cell_type": "code",
   "execution_count": 53,
   "id": "e12ad323",
   "metadata": {},
   "outputs": [
    {
     "data": {
      "text/html": [
       "<div>\n",
       "<style scoped>\n",
       "    .dataframe tbody tr th:only-of-type {\n",
       "        vertical-align: middle;\n",
       "    }\n",
       "\n",
       "    .dataframe tbody tr th {\n",
       "        vertical-align: top;\n",
       "    }\n",
       "\n",
       "    .dataframe thead th {\n",
       "        text-align: right;\n",
       "    }\n",
       "</style>\n",
       "<table border=\"1\" class=\"dataframe\">\n",
       "  <thead>\n",
       "    <tr style=\"text-align: right;\">\n",
       "      <th></th>\n",
       "      <th>Year</th>\n",
       "      <th>City</th>\n",
       "      <th>Sport</th>\n",
       "      <th>Discipline</th>\n",
       "      <th>Country</th>\n",
       "      <th>Gender</th>\n",
       "      <th>Event</th>\n",
       "      <th>Medal</th>\n",
       "    </tr>\n",
       "    <tr>\n",
       "      <th>Athlete</th>\n",
       "      <th></th>\n",
       "      <th></th>\n",
       "      <th></th>\n",
       "      <th></th>\n",
       "      <th></th>\n",
       "      <th></th>\n",
       "      <th></th>\n",
       "      <th></th>\n",
       "    </tr>\n",
       "  </thead>\n",
       "  <tbody>\n",
       "    <tr>\n",
       "      <th>HAJOS, Alfred</th>\n",
       "      <td>1896</td>\n",
       "      <td>Athens</td>\n",
       "      <td>Aquatics</td>\n",
       "      <td>Swimming</td>\n",
       "      <td>HUN</td>\n",
       "      <td>Men</td>\n",
       "      <td>100M Freestyle</td>\n",
       "      <td>Gold</td>\n",
       "    </tr>\n",
       "    <tr>\n",
       "      <th>HERSCHMANN, Otto</th>\n",
       "      <td>1896</td>\n",
       "      <td>Athens</td>\n",
       "      <td>Aquatics</td>\n",
       "      <td>Swimming</td>\n",
       "      <td>AUT</td>\n",
       "      <td>Men</td>\n",
       "      <td>100M Freestyle</td>\n",
       "      <td>Silver</td>\n",
       "    </tr>\n",
       "    <tr>\n",
       "      <th>DRIVAS, Dimitrios</th>\n",
       "      <td>1896</td>\n",
       "      <td>Athens</td>\n",
       "      <td>Aquatics</td>\n",
       "      <td>Swimming</td>\n",
       "      <td>GRE</td>\n",
       "      <td>Men</td>\n",
       "      <td>100M Freestyle For Sailors</td>\n",
       "      <td>Bronze</td>\n",
       "    </tr>\n",
       "    <tr>\n",
       "      <th>MALOKINIS, Ioannis</th>\n",
       "      <td>1896</td>\n",
       "      <td>Athens</td>\n",
       "      <td>Aquatics</td>\n",
       "      <td>Swimming</td>\n",
       "      <td>GRE</td>\n",
       "      <td>Men</td>\n",
       "      <td>100M Freestyle For Sailors</td>\n",
       "      <td>Gold</td>\n",
       "    </tr>\n",
       "    <tr>\n",
       "      <th>CHASAPIS, Spiridon</th>\n",
       "      <td>1896</td>\n",
       "      <td>Athens</td>\n",
       "      <td>Aquatics</td>\n",
       "      <td>Swimming</td>\n",
       "      <td>GRE</td>\n",
       "      <td>Men</td>\n",
       "      <td>100M Freestyle For Sailors</td>\n",
       "      <td>Silver</td>\n",
       "    </tr>\n",
       "  </tbody>\n",
       "</table>\n",
       "</div>"
      ],
      "text/plain": [
       "                    Year    City     Sport Discipline Country Gender  \\\n",
       "Athlete                                                                \n",
       "HAJOS, Alfred       1896  Athens  Aquatics   Swimming     HUN    Men   \n",
       "HERSCHMANN, Otto    1896  Athens  Aquatics   Swimming     AUT    Men   \n",
       "DRIVAS, Dimitrios   1896  Athens  Aquatics   Swimming     GRE    Men   \n",
       "MALOKINIS, Ioannis  1896  Athens  Aquatics   Swimming     GRE    Men   \n",
       "CHASAPIS, Spiridon  1896  Athens  Aquatics   Swimming     GRE    Men   \n",
       "\n",
       "                                         Event   Medal  \n",
       "Athlete                                                 \n",
       "HAJOS, Alfred                   100M Freestyle    Gold  \n",
       "HERSCHMANN, Otto                100M Freestyle  Silver  \n",
       "DRIVAS, Dimitrios   100M Freestyle For Sailors  Bronze  \n",
       "MALOKINIS, Ioannis  100M Freestyle For Sailors    Gold  \n",
       "CHASAPIS, Spiridon  100M Freestyle For Sailors  Silver  "
      ]
     },
     "execution_count": 53,
     "metadata": {},
     "output_type": "execute_result"
    }
   ],
   "source": [
    "summer.head()"
   ]
  },
  {
   "cell_type": "code",
   "execution_count": 55,
   "id": "16ce9192",
   "metadata": {},
   "outputs": [],
   "source": [
    "event = summer.Event"
   ]
  },
  {
   "cell_type": "code",
   "execution_count": 56,
   "id": "f219c146",
   "metadata": {},
   "outputs": [
    {
     "data": {
      "text/plain": [
       "Athlete\n",
       "HAJOS, Alfred                     100M Freestyle\n",
       "HERSCHMANN, Otto                  100M Freestyle\n",
       "DRIVAS, Dimitrios     100M Freestyle For Sailors\n",
       "MALOKINIS, Ioannis    100M Freestyle For Sailors\n",
       "CHASAPIS, Spiridon    100M Freestyle For Sailors\n",
       "Name: Event, dtype: object"
      ]
     },
     "execution_count": 56,
     "metadata": {},
     "output_type": "execute_result"
    }
   ],
   "source": [
    "event.head()"
   ]
  },
  {
   "cell_type": "code",
   "execution_count": 57,
   "id": "dceb5c66",
   "metadata": {},
   "outputs": [
    {
     "data": {
      "text/plain": [
       "'100M Freestyle'"
      ]
     },
     "execution_count": 57,
     "metadata": {},
     "output_type": "execute_result"
    }
   ],
   "source": [
    "event[0]"
   ]
  },
  {
   "cell_type": "code",
   "execution_count": 58,
   "id": "5fa7e634",
   "metadata": {},
   "outputs": [
    {
     "data": {
      "text/plain": [
       "'100M Freestyle'"
      ]
     },
     "execution_count": 58,
     "metadata": {},
     "output_type": "execute_result"
    }
   ],
   "source": [
    "event.iloc[0]"
   ]
  },
  {
   "cell_type": "code",
   "execution_count": 59,
   "id": "bd557fc9",
   "metadata": {},
   "outputs": [
    {
     "data": {
      "text/plain": [
       "'100M Freestyle For Sailors'"
      ]
     },
     "execution_count": 59,
     "metadata": {},
     "output_type": "execute_result"
    }
   ],
   "source": [
    "event.loc['CHASAPIS, Spiridon']"
   ]
  },
  {
   "cell_type": "code",
   "execution_count": 61,
   "id": "ec160a66",
   "metadata": {},
   "outputs": [
    {
     "data": {
      "text/plain": [
       "Athlete\n",
       "HAJOS, Alfred                    100M Freestyle\n",
       "HERSCHMANN, Otto                 100M Freestyle\n",
       "DRIVAS, Dimitrios    100M Freestyle For Sailors\n",
       "Name: Event, dtype: object"
      ]
     },
     "execution_count": 61,
     "metadata": {},
     "output_type": "execute_result"
    }
   ],
   "source": [
    "event.iloc[:3]"
   ]
  },
  {
   "cell_type": "code",
   "execution_count": 62,
   "id": "9a358e60",
   "metadata": {},
   "outputs": [
    {
     "data": {
      "text/plain": [
       "Athlete\n",
       "HAJOS, Alfred                    100M Freestyle\n",
       "HERSCHMANN, Otto                 100M Freestyle\n",
       "DRIVAS, Dimitrios    100M Freestyle For Sailors\n",
       "Name: Event, dtype: object"
      ]
     },
     "execution_count": 62,
     "metadata": {},
     "output_type": "execute_result"
    }
   ],
   "source": [
    "event.loc[:\"DRIVAS, Dimitrios\"]"
   ]
  },
  {
   "cell_type": "markdown",
   "id": "98bf5a69",
   "metadata": {},
   "source": [
    "### Sorting and introduction to the inplace-parameter"
   ]
  },
  {
   "cell_type": "code",
   "execution_count": 64,
   "id": "54b71f27",
   "metadata": {},
   "outputs": [
    {
     "data": {
      "text/plain": [
       "{1: 10, 3: 25, 2: 6, 4: 36, 5: 2, 6: 0, 7: None}"
      ]
     },
     "execution_count": 64,
     "metadata": {},
     "output_type": "execute_result"
    }
   ],
   "source": [
    "dic = {1:10, 3:25, 2:6, 4: 36, 5:2, 6:0, 7:None}\n",
    "dic"
   ]
  },
  {
   "cell_type": "code",
   "execution_count": 66,
   "id": "3cd7309e",
   "metadata": {},
   "outputs": [
    {
     "data": {
      "text/plain": [
       "1    10.0\n",
       "3    25.0\n",
       "2     6.0\n",
       "4    36.0\n",
       "5     2.0\n",
       "6     0.0\n",
       "7     NaN\n",
       "dtype: float64"
      ]
     },
     "execution_count": 66,
     "metadata": {},
     "output_type": "execute_result"
    }
   ],
   "source": [
    "sales = pd.Series(dic)\n",
    "sales"
   ]
  },
  {
   "cell_type": "code",
   "execution_count": 67,
   "id": "ea6edb6d",
   "metadata": {},
   "outputs": [
    {
     "data": {
      "text/plain": [
       "1    10.0\n",
       "2     6.0\n",
       "3    25.0\n",
       "4    36.0\n",
       "5     2.0\n",
       "6     0.0\n",
       "7     NaN\n",
       "dtype: float64"
      ]
     },
     "execution_count": 67,
     "metadata": {},
     "output_type": "execute_result"
    }
   ],
   "source": [
    "sales.sort_index()"
   ]
  },
  {
   "cell_type": "code",
   "execution_count": 73,
   "id": "597e905d",
   "metadata": {},
   "outputs": [
    {
     "data": {
      "text/plain": [
       "7     NaN\n",
       "6     0.0\n",
       "5     2.0\n",
       "4    36.0\n",
       "3    25.0\n",
       "2     6.0\n",
       "1    10.0\n",
       "dtype: float64"
      ]
     },
     "execution_count": 73,
     "metadata": {},
     "output_type": "execute_result"
    }
   ],
   "source": [
    "sales.sort_index(ascending=False)"
   ]
  },
  {
   "cell_type": "code",
   "execution_count": 77,
   "id": "4e341a59",
   "metadata": {},
   "outputs": [
    {
     "data": {
      "text/plain": [
       "6     0.0\n",
       "5     2.0\n",
       "2     6.0\n",
       "1    10.0\n",
       "3    25.0\n",
       "4    36.0\n",
       "7     NaN\n",
       "dtype: float64"
      ]
     },
     "execution_count": 77,
     "metadata": {},
     "output_type": "execute_result"
    }
   ],
   "source": [
    "sales.sort_values(inplace=False)"
   ]
  },
  {
   "cell_type": "code",
   "execution_count": 80,
   "id": "4639192b",
   "metadata": {},
   "outputs": [
    {
     "data": {
      "text/plain": [
       "4    36.0\n",
       "3    25.0\n",
       "1    10.0\n",
       "2     6.0\n",
       "5     2.0\n",
       "6     0.0\n",
       "7     NaN\n",
       "dtype: float64"
      ]
     },
     "execution_count": 80,
     "metadata": {},
     "output_type": "execute_result"
    }
   ],
   "source": [
    "sales.sort_values(ascending=False, inplace=False, na_position=\"last\")"
   ]
  },
  {
   "cell_type": "code",
   "execution_count": 82,
   "id": "eccd0b31",
   "metadata": {},
   "outputs": [
    {
     "data": {
      "text/plain": [
       "{'Mon': 10, 'Tue': 25, 'Wed': 6, 'Thu': 36, 'Fri': 2}"
      ]
     },
     "execution_count": 82,
     "metadata": {},
     "output_type": "execute_result"
    }
   ],
   "source": [
    "dic = {\"Mon\": 10, \"Tue\": 25, \"Wed\": 6, \"Thu\": 36, \"Fri\": 2}\n",
    "dic"
   ]
  },
  {
   "cell_type": "code",
   "execution_count": 84,
   "id": "2c947a43",
   "metadata": {},
   "outputs": [],
   "source": [
    "sales = pd.Series(dic)"
   ]
  },
  {
   "cell_type": "code",
   "execution_count": 86,
   "id": "f069a237",
   "metadata": {},
   "outputs": [
    {
     "data": {
      "text/plain": [
       "Mon    10\n",
       "Tue    25\n",
       "Wed     6\n",
       "Thu    36\n",
       "Fri     2\n",
       "dtype: int64"
      ]
     },
     "execution_count": 86,
     "metadata": {},
     "output_type": "execute_result"
    }
   ],
   "source": [
    "sales"
   ]
  },
  {
   "cell_type": "code",
   "execution_count": 87,
   "id": "2b72659a",
   "metadata": {},
   "outputs": [
    {
     "data": {
      "text/plain": [
       "Fri     2\n",
       "Mon    10\n",
       "Thu    36\n",
       "Tue    25\n",
       "Wed     6\n",
       "dtype: int64"
      ]
     },
     "execution_count": 87,
     "metadata": {},
     "output_type": "execute_result"
    }
   ],
   "source": [
    "sales.sort_index(ascending=True)"
   ]
  },
  {
   "cell_type": "markdown",
   "id": "e5912c2a",
   "metadata": {},
   "source": [
    "### nlargest() and nsmallest()"
   ]
  },
  {
   "cell_type": "code",
   "execution_count": 89,
   "id": "2b7a679a",
   "metadata": {},
   "outputs": [
    {
     "data": {
      "text/html": [
       "<div>\n",
       "<style scoped>\n",
       "    .dataframe tbody tr th:only-of-type {\n",
       "        vertical-align: middle;\n",
       "    }\n",
       "\n",
       "    .dataframe tbody tr th {\n",
       "        vertical-align: top;\n",
       "    }\n",
       "\n",
       "    .dataframe thead th {\n",
       "        text-align: right;\n",
       "    }\n",
       "</style>\n",
       "<table border=\"1\" class=\"dataframe\">\n",
       "  <thead>\n",
       "    <tr style=\"text-align: right;\">\n",
       "      <th></th>\n",
       "      <th>survived</th>\n",
       "      <th>pclass</th>\n",
       "      <th>sex</th>\n",
       "      <th>age</th>\n",
       "      <th>sibsp</th>\n",
       "      <th>parch</th>\n",
       "      <th>fare</th>\n",
       "      <th>embarked</th>\n",
       "      <th>deck</th>\n",
       "    </tr>\n",
       "  </thead>\n",
       "  <tbody>\n",
       "    <tr>\n",
       "      <th>0</th>\n",
       "      <td>0</td>\n",
       "      <td>3</td>\n",
       "      <td>male</td>\n",
       "      <td>22.0</td>\n",
       "      <td>1</td>\n",
       "      <td>0</td>\n",
       "      <td>7.2500</td>\n",
       "      <td>S</td>\n",
       "      <td>NaN</td>\n",
       "    </tr>\n",
       "    <tr>\n",
       "      <th>1</th>\n",
       "      <td>1</td>\n",
       "      <td>1</td>\n",
       "      <td>female</td>\n",
       "      <td>38.0</td>\n",
       "      <td>1</td>\n",
       "      <td>0</td>\n",
       "      <td>71.2833</td>\n",
       "      <td>C</td>\n",
       "      <td>C</td>\n",
       "    </tr>\n",
       "    <tr>\n",
       "      <th>2</th>\n",
       "      <td>1</td>\n",
       "      <td>3</td>\n",
       "      <td>female</td>\n",
       "      <td>26.0</td>\n",
       "      <td>0</td>\n",
       "      <td>0</td>\n",
       "      <td>7.9250</td>\n",
       "      <td>S</td>\n",
       "      <td>NaN</td>\n",
       "    </tr>\n",
       "    <tr>\n",
       "      <th>3</th>\n",
       "      <td>1</td>\n",
       "      <td>1</td>\n",
       "      <td>female</td>\n",
       "      <td>35.0</td>\n",
       "      <td>1</td>\n",
       "      <td>0</td>\n",
       "      <td>53.1000</td>\n",
       "      <td>S</td>\n",
       "      <td>C</td>\n",
       "    </tr>\n",
       "    <tr>\n",
       "      <th>4</th>\n",
       "      <td>0</td>\n",
       "      <td>3</td>\n",
       "      <td>male</td>\n",
       "      <td>35.0</td>\n",
       "      <td>0</td>\n",
       "      <td>0</td>\n",
       "      <td>8.0500</td>\n",
       "      <td>S</td>\n",
       "      <td>NaN</td>\n",
       "    </tr>\n",
       "    <tr>\n",
       "      <th>...</th>\n",
       "      <td>...</td>\n",
       "      <td>...</td>\n",
       "      <td>...</td>\n",
       "      <td>...</td>\n",
       "      <td>...</td>\n",
       "      <td>...</td>\n",
       "      <td>...</td>\n",
       "      <td>...</td>\n",
       "      <td>...</td>\n",
       "    </tr>\n",
       "    <tr>\n",
       "      <th>886</th>\n",
       "      <td>0</td>\n",
       "      <td>2</td>\n",
       "      <td>male</td>\n",
       "      <td>27.0</td>\n",
       "      <td>0</td>\n",
       "      <td>0</td>\n",
       "      <td>13.0000</td>\n",
       "      <td>S</td>\n",
       "      <td>NaN</td>\n",
       "    </tr>\n",
       "    <tr>\n",
       "      <th>887</th>\n",
       "      <td>1</td>\n",
       "      <td>1</td>\n",
       "      <td>female</td>\n",
       "      <td>19.0</td>\n",
       "      <td>0</td>\n",
       "      <td>0</td>\n",
       "      <td>30.0000</td>\n",
       "      <td>S</td>\n",
       "      <td>B</td>\n",
       "    </tr>\n",
       "    <tr>\n",
       "      <th>888</th>\n",
       "      <td>0</td>\n",
       "      <td>3</td>\n",
       "      <td>female</td>\n",
       "      <td>NaN</td>\n",
       "      <td>1</td>\n",
       "      <td>2</td>\n",
       "      <td>23.4500</td>\n",
       "      <td>S</td>\n",
       "      <td>NaN</td>\n",
       "    </tr>\n",
       "    <tr>\n",
       "      <th>889</th>\n",
       "      <td>1</td>\n",
       "      <td>1</td>\n",
       "      <td>male</td>\n",
       "      <td>26.0</td>\n",
       "      <td>0</td>\n",
       "      <td>0</td>\n",
       "      <td>30.0000</td>\n",
       "      <td>C</td>\n",
       "      <td>C</td>\n",
       "    </tr>\n",
       "    <tr>\n",
       "      <th>890</th>\n",
       "      <td>0</td>\n",
       "      <td>3</td>\n",
       "      <td>male</td>\n",
       "      <td>32.0</td>\n",
       "      <td>0</td>\n",
       "      <td>0</td>\n",
       "      <td>7.7500</td>\n",
       "      <td>Q</td>\n",
       "      <td>NaN</td>\n",
       "    </tr>\n",
       "  </tbody>\n",
       "</table>\n",
       "<p>891 rows × 9 columns</p>\n",
       "</div>"
      ],
      "text/plain": [
       "     survived  pclass     sex   age  sibsp  parch     fare embarked deck\n",
       "0           0       3    male  22.0      1      0   7.2500        S  NaN\n",
       "1           1       1  female  38.0      1      0  71.2833        C    C\n",
       "2           1       3  female  26.0      0      0   7.9250        S  NaN\n",
       "3           1       1  female  35.0      1      0  53.1000        S    C\n",
       "4           0       3    male  35.0      0      0   8.0500        S  NaN\n",
       "..        ...     ...     ...   ...    ...    ...      ...      ...  ...\n",
       "886         0       2    male  27.0      0      0  13.0000        S  NaN\n",
       "887         1       1  female  19.0      0      0  30.0000        S    B\n",
       "888         0       3  female   NaN      1      2  23.4500        S  NaN\n",
       "889         1       1    male  26.0      0      0  30.0000        C    C\n",
       "890         0       3    male  32.0      0      0   7.7500        Q  NaN\n",
       "\n",
       "[891 rows x 9 columns]"
      ]
     },
     "execution_count": 89,
     "metadata": {},
     "output_type": "execute_result"
    }
   ],
   "source": [
    "titanic"
   ]
  },
  {
   "cell_type": "code",
   "execution_count": 90,
   "id": "4b02ac3a",
   "metadata": {},
   "outputs": [],
   "source": [
    "age = titanic.age"
   ]
  },
  {
   "cell_type": "code",
   "execution_count": 91,
   "id": "8ae8a48b",
   "metadata": {},
   "outputs": [
    {
     "data": {
      "text/plain": [
       "0    22.0\n",
       "1    38.0\n",
       "2    26.0\n",
       "3    35.0\n",
       "4    35.0\n",
       "Name: age, dtype: float64"
      ]
     },
     "execution_count": 91,
     "metadata": {},
     "output_type": "execute_result"
    }
   ],
   "source": [
    "age.head()"
   ]
  },
  {
   "cell_type": "code",
   "execution_count": 92,
   "id": "72c14e59",
   "metadata": {},
   "outputs": [
    {
     "data": {
      "text/plain": [
       "630    80.0\n",
       "851    74.0\n",
       "96     71.0\n",
       "493    71.0\n",
       "116    70.5\n",
       "Name: age, dtype: float64"
      ]
     },
     "execution_count": 92,
     "metadata": {},
     "output_type": "execute_result"
    }
   ],
   "source": [
    "age.nlargest()"
   ]
  },
  {
   "cell_type": "code",
   "execution_count": 94,
   "id": "a1c31789",
   "metadata": {},
   "outputs": [
    {
     "data": {
      "text/plain": [
       "803    0.42\n",
       "755    0.67\n",
       "469    0.75\n",
       "644    0.75\n",
       "78     0.83\n",
       "Name: age, dtype: float64"
      ]
     },
     "execution_count": 94,
     "metadata": {},
     "output_type": "execute_result"
    }
   ],
   "source": [
    "age.nsmallest()"
   ]
  },
  {
   "cell_type": "code",
   "execution_count": 97,
   "id": "399eb3b8",
   "metadata": {},
   "outputs": [
    {
     "data": {
      "text/plain": [
       "Int64Index([803, 755, 469, 644, 78], dtype='int64')"
      ]
     },
     "execution_count": 97,
     "metadata": {},
     "output_type": "execute_result"
    }
   ],
   "source": [
    "age.nsmallest().index"
   ]
  },
  {
   "cell_type": "code",
   "execution_count": 101,
   "id": "548bf571",
   "metadata": {},
   "outputs": [
    {
     "data": {
      "text/plain": [
       "803    0.42\n",
       "755    0.67\n",
       "644    0.75\n",
       "Name: age, dtype: float64"
      ]
     },
     "execution_count": 101,
     "metadata": {},
     "output_type": "execute_result"
    }
   ],
   "source": [
    "age.sort_values(ascending=True).head(3)"
   ]
  },
  {
   "cell_type": "code",
   "execution_count": 102,
   "id": "08a7ea1a",
   "metadata": {},
   "outputs": [
    {
     "data": {
      "text/plain": [
       "630    80.0\n",
       "851    74.0\n",
       "96     71.0\n",
       "Name: age, dtype: float64"
      ]
     },
     "execution_count": 102,
     "metadata": {},
     "output_type": "execute_result"
    }
   ],
   "source": [
    "age.nlargest(3)"
   ]
  },
  {
   "cell_type": "code",
   "execution_count": 103,
   "id": "1bf460da",
   "metadata": {},
   "outputs": [
    {
     "data": {
      "text/plain": [
       "803    0.42\n",
       "755    0.67\n",
       "469    0.75\n",
       "Name: age, dtype: float64"
      ]
     },
     "execution_count": 103,
     "metadata": {},
     "output_type": "execute_result"
    }
   ],
   "source": [
    "age.nsmallest().iloc[:3]"
   ]
  },
  {
   "cell_type": "markdown",
   "id": "1b8da608",
   "metadata": {},
   "source": [
    "### idxmin and idxmax()"
   ]
  },
  {
   "cell_type": "code",
   "execution_count": 104,
   "id": "5366ba59",
   "metadata": {},
   "outputs": [
    {
     "data": {
      "text/html": [
       "<div>\n",
       "<style scoped>\n",
       "    .dataframe tbody tr th:only-of-type {\n",
       "        vertical-align: middle;\n",
       "    }\n",
       "\n",
       "    .dataframe tbody tr th {\n",
       "        vertical-align: top;\n",
       "    }\n",
       "\n",
       "    .dataframe thead th {\n",
       "        text-align: right;\n",
       "    }\n",
       "</style>\n",
       "<table border=\"1\" class=\"dataframe\">\n",
       "  <thead>\n",
       "    <tr style=\"text-align: right;\">\n",
       "      <th></th>\n",
       "      <th>survived</th>\n",
       "      <th>pclass</th>\n",
       "      <th>sex</th>\n",
       "      <th>age</th>\n",
       "      <th>sibsp</th>\n",
       "      <th>parch</th>\n",
       "      <th>fare</th>\n",
       "      <th>embarked</th>\n",
       "      <th>deck</th>\n",
       "    </tr>\n",
       "  </thead>\n",
       "  <tbody>\n",
       "    <tr>\n",
       "      <th>0</th>\n",
       "      <td>0</td>\n",
       "      <td>3</td>\n",
       "      <td>male</td>\n",
       "      <td>22.0</td>\n",
       "      <td>1</td>\n",
       "      <td>0</td>\n",
       "      <td>7.2500</td>\n",
       "      <td>S</td>\n",
       "      <td>NaN</td>\n",
       "    </tr>\n",
       "    <tr>\n",
       "      <th>1</th>\n",
       "      <td>1</td>\n",
       "      <td>1</td>\n",
       "      <td>female</td>\n",
       "      <td>38.0</td>\n",
       "      <td>1</td>\n",
       "      <td>0</td>\n",
       "      <td>71.2833</td>\n",
       "      <td>C</td>\n",
       "      <td>C</td>\n",
       "    </tr>\n",
       "    <tr>\n",
       "      <th>2</th>\n",
       "      <td>1</td>\n",
       "      <td>3</td>\n",
       "      <td>female</td>\n",
       "      <td>26.0</td>\n",
       "      <td>0</td>\n",
       "      <td>0</td>\n",
       "      <td>7.9250</td>\n",
       "      <td>S</td>\n",
       "      <td>NaN</td>\n",
       "    </tr>\n",
       "    <tr>\n",
       "      <th>3</th>\n",
       "      <td>1</td>\n",
       "      <td>1</td>\n",
       "      <td>female</td>\n",
       "      <td>35.0</td>\n",
       "      <td>1</td>\n",
       "      <td>0</td>\n",
       "      <td>53.1000</td>\n",
       "      <td>S</td>\n",
       "      <td>C</td>\n",
       "    </tr>\n",
       "    <tr>\n",
       "      <th>4</th>\n",
       "      <td>0</td>\n",
       "      <td>3</td>\n",
       "      <td>male</td>\n",
       "      <td>35.0</td>\n",
       "      <td>0</td>\n",
       "      <td>0</td>\n",
       "      <td>8.0500</td>\n",
       "      <td>S</td>\n",
       "      <td>NaN</td>\n",
       "    </tr>\n",
       "  </tbody>\n",
       "</table>\n",
       "</div>"
      ],
      "text/plain": [
       "   survived  pclass     sex   age  sibsp  parch     fare embarked deck\n",
       "0         0       3    male  22.0      1      0   7.2500        S  NaN\n",
       "1         1       1  female  38.0      1      0  71.2833        C    C\n",
       "2         1       3  female  26.0      0      0   7.9250        S  NaN\n",
       "3         1       1  female  35.0      1      0  53.1000        S    C\n",
       "4         0       3    male  35.0      0      0   8.0500        S  NaN"
      ]
     },
     "execution_count": 104,
     "metadata": {},
     "output_type": "execute_result"
    }
   ],
   "source": [
    "titanic.head()"
   ]
  },
  {
   "cell_type": "markdown",
   "id": "6d541e16",
   "metadata": {},
   "source": [
    "#### index of the greatest value"
   ]
  },
  {
   "cell_type": "code",
   "execution_count": 107,
   "id": "48e7d39b",
   "metadata": {},
   "outputs": [
    {
     "data": {
      "text/plain": [
       "630"
      ]
     },
     "execution_count": 107,
     "metadata": {},
     "output_type": "execute_result"
    }
   ],
   "source": [
    "titanic.age.idxmax()"
   ]
  },
  {
   "cell_type": "markdown",
   "id": "f2580ee5",
   "metadata": {},
   "source": [
    "#### index of the smallest value"
   ]
  },
  {
   "cell_type": "code",
   "execution_count": 108,
   "id": "032c47ea",
   "metadata": {},
   "outputs": [
    {
     "data": {
      "text/plain": [
       "803"
      ]
     },
     "execution_count": 108,
     "metadata": {},
     "output_type": "execute_result"
    }
   ],
   "source": [
    "titanic.age.idxmin()"
   ]
  },
  {
   "cell_type": "code",
   "execution_count": 109,
   "id": "082eb83e",
   "metadata": {},
   "outputs": [
    {
     "data": {
      "text/plain": [
       "survived       1\n",
       "pclass         1\n",
       "sex         male\n",
       "age         80.0\n",
       "sibsp          0\n",
       "parch          0\n",
       "fare        30.0\n",
       "embarked       S\n",
       "deck           A\n",
       "Name: 630, dtype: object"
      ]
     },
     "execution_count": 109,
     "metadata": {},
     "output_type": "execute_result"
    }
   ],
   "source": [
    "titanic.iloc[630]"
   ]
  },
  {
   "cell_type": "code",
   "execution_count": 110,
   "id": "99dc01cd",
   "metadata": {},
   "outputs": [
    {
     "data": {
      "text/plain": [
       "survived       1\n",
       "pclass         1\n",
       "sex         male\n",
       "age         80.0\n",
       "sibsp          0\n",
       "parch          0\n",
       "fare        30.0\n",
       "embarked       S\n",
       "deck           A\n",
       "Name: 630, dtype: object"
      ]
     },
     "execution_count": 110,
     "metadata": {},
     "output_type": "execute_result"
    }
   ],
   "source": [
    "titanic.iloc[titanic.age.idxmax]"
   ]
  },
  {
   "cell_type": "code",
   "execution_count": null,
   "id": "f565c666",
   "metadata": {},
   "outputs": [],
   "source": []
  }
 ],
 "metadata": {
  "kernelspec": {
   "display_name": "Python 3",
   "language": "python",
   "name": "python3"
  },
  "language_info": {
   "codemirror_mode": {
    "name": "ipython",
    "version": 3
   },
   "file_extension": ".py",
   "mimetype": "text/x-python",
   "name": "python",
   "nbconvert_exporter": "python",
   "pygments_lexer": "ipython3",
   "version": "3.8.8"
  }
 },
 "nbformat": 4,
 "nbformat_minor": 5
}
